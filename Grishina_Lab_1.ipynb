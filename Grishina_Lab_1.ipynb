{
 "cells": [
  {
   "cell_type": "markdown",
   "metadata": {},
   "source": [
    "# Lab1 Titanic passangers' data analysis\n",
    "---\n",
    "\n",
    "By doing this lab you should get acquinted with API of basic machine learning python libraries such as:\n",
    "\n",
    "* scikit-learn\n",
    "* numpy\n",
    "* pandas\n",
    "* matplotlib\n",
    "\n",
    "This task will give ?? points\n",
    "\n",
    "## TASK:\n",
    "\n",
    "[Kaggle](https://www.kaggle.com/) is a data analysis competition platform. Even if you don't interested in that kind of competitions (but there is assumption that you should be interested), there are a lot of examples of rather good data analysis, called [kernels](https://www.kaggle.com/kernels) in kaggle terminology, that you can consult during this course.\n",
    "\n",
    "1. You should register on [Kaggle](https://www.kaggle.com/) to be able to download datasets.\n",
    "2. Download dataset `train.csv` from [Titanic: Machine Learning from Disaster](http://www.kaggle.com/c/titanic-gettingStarted/data). You will find dataset description there as well.\n",
    "3. Every research or analysis are meaningless without right questions, hypothesises? To warm up you need to find meaningfull answers for the next questions:\n",
    "    - How many passengers was travelling by first class?\n",
    "    - What is the most popular female name on board?\n",
    "    - How does ticket cost varie?\n",
    "    - What titles (ex.: Mrs., Mr.) you could find in dataset and which class did they travel?\n",
    "    - Are there any dependencies between class and ticket number?\n",
    "    - What part of passengers was able to survive?\n",
    "    - Are there any correlation between the number of brothers/sisters and the number of parents/kids ?\n",
    "   \n",
    "4. Try to find some correlations or dependencies manually and support/prove them with graphs or statistics. Find some exact rules describing some subset of survived class. What can you say about interpretation complexity of there rules? \n",
    "5. Check the following assumptions:\n",
    "    - Females survived more frequently than mens\n",
    "    - Passangers with more expensive tickets survived with higher probability\n",
    "    \n",
    "## Report\n",
    "\n",
    "All reports should be delivered in the format of IPython (Jupyter) Notebooks (`.ipynb` files). \n",
    "\n",
    "\n",
    "\n",
    "## TOOLS AND LINKS\n",
    "\n",
    "  * [Collection of interesting notebooks](https://github.com/ipython/ipython/wiki/A-gallery-of-interesting-IPython-Notebooks)\n",
    "\n",
    "###  Python libraries\n",
    "\n",
    "  * [NumPy](http://www.numpy.org/)\n",
    "    - [graph library Matlab](http://wiki.scipy.org/NumPy_for_Matlab_Users)\n",
    "  * [Pandas](http://pandas.pydata.org/)\n",
    "    - [how to work with datasets using pandas](http://nbviewer.ipython.org/github/agconti/kaggle-titanic/blob/master/Titanic.ipynb)\n",
    "  * [Matplotlib](http://matplotlib.org/index.html)\n",
    "    - [pyplot](http://matplotlib.org/api/pyplot_api.html) — matlab graph utility emulation in python\n",
    "    - [example gallery](http://matplotlib.org/gallery.html)\n",
    "  * [SciPy](http://scipy.org/)\n",
    "\n",
    "\n",
    "\n"
   ]
  },
  {
   "cell_type": "markdown",
   "metadata": {
    "collapsed": true
   },
   "source": []
  },
  {
   "cell_type": "markdown",
   "metadata": {},
   "source": [
    "# Answers by Grishina Anastasiia"
   ]
  },
  {
   "cell_type": "markdown",
   "metadata": {},
   "source": [
    "### How many passengers was travelling by first class?\n",
    "\n",
    "Re: 216"
   ]
  },
  {
   "cell_type": "code",
   "execution_count": 131,
   "metadata": {
    "collapsed": false
   },
   "outputs": [
    {
     "name": "stdout",
     "output_type": "stream",
     "text": [
      "216\n"
     ]
    }
   ],
   "source": [
    "import pandas as pd\n",
    "import csv\n",
    "\n",
    "Working_dir = \"C:\\\\Users\\\\aagri\\\\Documents\\\\Python Scripts\\\\titanic\\\\\"\n",
    "train_df = pd.read_csv(Working_dir + \"train.csv\")\n",
    "\n",
    "VIP_passengers = train_df [ train_df[ \"Pclass\" ] == 1 ].count()[ \"PassengerId\" ]\n",
    "print ( VIP_passengers )"
   ]
  },
  {
   "cell_type": "markdown",
   "metadata": {},
   "source": [
    "-----------------------------------------"
   ]
  },
  {
   "cell_type": "markdown",
   "metadata": {},
   "source": [
    "### What is the most popular female name on board?\n",
    "\n",
    "Re: Anna, 15 \n",
    "\n"
   ]
  },
  {
   "cell_type": "markdown",
   "metadata": {},
   "source": [
    "The name is found based on the following:\n",
    "\n",
    "Heikkinen, Miss. Laina -> Laina\n",
    "\n",
    "Futrelle, Mrs. Jacques Heath (Lily May Peel) -> Lily\n",
    "\n",
    "Hewlett, Mrs. (Mary D Kingcome) -> Mary\n",
    "\n",
    "McGowan, Miss. Anna \"Annie\" -> Anna\n",
    "\n",
    "Yrois, Miss. Henriette (\"Mrs Harbeck\") -> Henriette"
   ]
  },
  {
   "cell_type": "code",
   "execution_count": 132,
   "metadata": {
    "collapsed": false
   },
   "outputs": [
    {
     "name": "stdout",
     "output_type": "stream",
     "text": [
      "Anna\n",
      "15\n"
     ]
    }
   ],
   "source": [
    "# ladies = names of all women\n",
    "ladies = train_df [ train_df[ \"Sex\" ]==\"female\" ][\"Name\"]\n",
    "\n",
    "# list of names\n",
    "l_names = ['']\n",
    "\n",
    "for string in ladies:\n",
    "    # search for name only after the title\n",
    "    s = string.split(\". \")\n",
    "    s = s[1]\n",
    "    # if bracket occurs => first after the bracket without quotes\n",
    "    if '(' in s:\n",
    "        if not ('(\"' in s ):\n",
    "            s = s.split( \"(\" )[1]\n",
    "            \n",
    "    # delete unwanted character\n",
    "    for c in ')\"':\n",
    "        s = s.replace( c, \"\" )\n",
    "        \n",
    "    # extract name\n",
    "    s = s.split(\" \")[0]\n",
    "    l_names.append( s )\n",
    "\n",
    "count_names = []\n",
    "for i in range (0, len(l_names)):\n",
    "    count_names.append( l_names.count(l_names[i]) )\n",
    "    \n",
    "print ( l_names [ count_names.index ( max( count_names ) ) ] )\n",
    "print ( max( count_names ) )"
   ]
  },
  {
   "cell_type": "markdown",
   "metadata": {},
   "source": [
    "-----------------------------------------"
   ]
  },
  {
   "cell_type": "markdown",
   "metadata": {},
   "source": [
    "### How does ticket cost varie?\n",
    "\n",
    "Re: in output of the cells, i.e. min = 0; max = 512.329"
   ]
  },
  {
   "cell_type": "code",
   "execution_count": 133,
   "metadata": {
    "collapsed": false
   },
   "outputs": [
    {
     "name": "stdout",
     "output_type": "stream",
     "text": [
      "Class 1: Minimal ticket fare is 0.000\n",
      "Class 1: Minimal ticket fare is 512.329\n",
      "Class 1: Minimal non-zero ticket fare is 5.000\n",
      "\n",
      "Class 2: Minimal ticket fare is 0.000\n",
      "Class 2: Minimal ticket fare is 73.500\n",
      "Class 2: Minimal non-zero ticket fare is 10.500\n",
      "\n",
      "Class 3: Minimal ticket fare is 0.000\n",
      "Class 3: Minimal ticket fare is 69.550\n",
      "Class 3: Minimal non-zero ticket fare is 4.013\n",
      "\n"
     ]
    }
   ],
   "source": [
    "fare = 0\n",
    "i = 0\n",
    "num = 0\n",
    "for i in range(1,4):\n",
    "    fare = train_df[ train_df[ \"Pclass\" ] == i  ][ \"Fare\" ].min()\n",
    "    print ( \"Class %i: Minimal ticket fare is %.3f\" %(i, fare) )\n",
    "    \n",
    "    fare = train_df[ train_df[ \"Pclass\" ] == i  ][ \"Fare\" ].max()\n",
    "    print ( \"Class %i: Minimal ticket fare is %.3f\" %(i, fare) )\n",
    "\n",
    "    for num in range( 1, len(train_df[ \"Fare\" ]) ):\n",
    "        if train_df[ \"Pclass\" ][num] == i \\\n",
    "        and train_df[ \"Fare\" ][num] > 0 \\\n",
    "        and train_df[ \"Fare\" ][num] <> 0 \\\n",
    "        and fare > train_df[ \"Fare\" ][num]:\n",
    "            fare = train_df[ \"Fare\" ][num]\n",
    "        \n",
    "    print ( \"Class %i: Minimal non-zero ticket fare is %.3f\" %(i, fare))\n",
    "    print('')"
   ]
  },
  {
   "cell_type": "markdown",
   "metadata": {},
   "source": [
    "-----------------------------------------"
   ]
  },
  {
   "cell_type": "markdown",
   "metadata": {},
   "source": [
    "### What titles (ex.: Mrs., Mr.) you could find in dataset and which class did they travel?\n",
    "\n",
    "Re: in output of the cells"
   ]
  },
  {
   "cell_type": "code",
   "execution_count": 134,
   "metadata": {
    "collapsed": false
   },
   "outputs": [
    {
     "name": "stdout",
     "output_type": "stream",
     "text": [
      "['Mr', 'Mrs', 'Miss', 'Master', 'Don', 'Rev', 'Dr', 'Mme', 'Ms', 'Major', 'Lady', 'Sir', 'Mlle', 'Col', 'Capt', 'Countess', 'Jonkheer']\n"
     ]
    }
   ],
   "source": [
    "titles = []\n",
    "titles_all = train_df[\"Name\"].str.extract(' ([A-Za-z]+)\\.', expand=False)\n",
    "[titles.append(x) for x in titles_all if x not in titles]\n",
    "print(titles)"
   ]
  },
  {
   "cell_type": "markdown",
   "metadata": {},
   "source": [
    "but the pre-last title should be 'the Countess'"
   ]
  },
  {
   "cell_type": "code",
   "execution_count": 135,
   "metadata": {
    "collapsed": false
   },
   "outputs": [
    {
     "name": "stdout",
     "output_type": "stream",
     "text": [
      "['Mr', 'Mrs', 'Miss', 'Master', 'Don', 'Rev', 'Dr', 'Mme', 'Ms', 'Major', 'Lady', 'Sir', 'Mlle', 'Col', 'Capt', 'the Countess', 'Jonkheer']\n"
     ]
    }
   ],
   "source": [
    "titles = []\n",
    "all_names = train_df [\"Name\"]\n",
    "\n",
    "for name in all_names:\n",
    "    name = name.split(\", \")[1]\n",
    "    name = name.split(\". \")[0]\n",
    "    if not(name in titles):\n",
    "        titles.append(name)\n",
    "print(titles)"
   ]
  },
  {
   "cell_type": "markdown",
   "metadata": {},
   "source": [
    "here we are looking for the number of the passengers in each class for every particular title"
   ]
  },
  {
   "cell_type": "code",
   "execution_count": 136,
   "metadata": {
    "collapsed": false
   },
   "outputs": [
    {
     "name": "stdout",
     "output_type": "stream",
     "text": [
      "              Class 1  Class 2  Class 3\n",
      "Mr                107       91      319\n",
      "Mrs                42       41       42\n",
      "Miss               46       34      102\n",
      "Master              3        9       28\n",
      "Don                 1        0        0\n",
      "Rev                 0        6        0\n",
      "Dr                  5        2        0\n",
      "Mme                 1        0        0\n",
      "Ms                  0        1        0\n",
      "Major               2        0        0\n",
      "Lady                1        0        0\n",
      "Sir                 1        0        0\n",
      "Mlle                2        0        0\n",
      "Col                 2        0        0\n",
      "Capt                1        0        0\n",
      "the Countess        1        0        0\n",
      "Jonkheer            1        0        0\n"
     ]
    }
   ],
   "source": [
    "passengers_classes = pd.DataFrame( 0, index = titles, columns=[\"Class 1\", \"Class 2\", \"Class 3\"]) \n",
    "\n",
    "for i in range (0, len(all_names) ):\n",
    "    name = train_df[\"Name\"][i].split(\", \")[1]\n",
    "    name = name.split(\". \")[0]\n",
    "    if train_df[\"Pclass\"][i] == 1:\n",
    "        passengers_classes.ix[name,'Class 1'] += 1\n",
    "    elif train_df[\"Pclass\"][i] == 2:\n",
    "        passengers_classes.ix[name,'Class 2'] += 1\n",
    "    else:\n",
    "        passengers_classes.ix[name,'Class 3'] += 1\n",
    "\n",
    "print (passengers_classes)"
   ]
  },
  {
   "cell_type": "markdown",
   "metadata": {},
   "source": [
    "-----------------------------------------"
   ]
  },
  {
   "cell_type": "markdown",
   "metadata": {},
   "source": [
    "### Are there any dependencies between class and ticket number?"
   ]
  },
  {
   "cell_type": "markdown",
   "metadata": {},
   "source": [
    "#### class 1\n",
    "\n",
    "\n",
    "* 60.648 percent of tickets of class 1 begin with '1'\n",
    "\n",
    "* If we also count tickets starting with str characters, 88.889 percent of tickets of class 1 begin with '1'\n",
    "\n",
    "* Tickets starting with characters 'PC' compose 27.778 percent of all 1st class tickets"
   ]
  },
  {
   "cell_type": "code",
   "execution_count": 137,
   "metadata": {
    "collapsed": false
   },
   "outputs": [
    {
     "name": "stdout",
     "output_type": "stream",
     "text": [
      "1     PC 17599\n",
      "3       113803\n",
      "6        17463\n",
      "11      113783\n",
      "23      113788\n",
      "Name: Ticket, dtype: object\n",
      "\n",
      "60.648 percent of tickets of class 1 begin with '1'\n"
     ]
    }
   ],
   "source": [
    "class_1 = train_df[train_df[ \"Pclass\" ] == 1 ][\"Ticket\"] \n",
    "print (class_1.head())\n",
    "\n",
    "total_num_begin_with_1 = 0\n",
    "s = ''\n",
    "for s in class_1:\n",
    "    if s[0] == \"1\":\n",
    "        total_num_begin_with_1 = total_num_begin_with_1 + 1\n",
    "print ( '' )\n",
    "print ( \"%2.3f percent of tickets of class 1 begin with '1'\" %( ( total_num_begin_with_1/float(len(class_1)) ) * 100. ) )"
   ]
  },
  {
   "cell_type": "code",
   "execution_count": 138,
   "metadata": {
    "collapsed": false
   },
   "outputs": [
    {
     "name": "stdout",
     "output_type": "stream",
     "text": [
      "If we also count tickets starting with str characters, \n",
      "88.889 percent of tickets of class 1 begin with '1'\n"
     ]
    }
   ],
   "source": [
    "s =''\n",
    "total_num_begin_with_letter_1 = 0\n",
    "for s in class_1:\n",
    "    if s[0] <> \"1\" and \" \" in s:\n",
    "        s = s.split(\" \")[1]\n",
    "        if s[0] == \"1\":\n",
    "            total_num_begin_with_letter_1 += 1\n",
    "print ( \"If we also count tickets starting with str characters, \" )\n",
    "print ( \"%2.3f percent of tickets of class 1 begin with '1'\" %( ( total_num_begin_with_1 + total_num_begin_with_letter_1 )\\\n",
    "                                                                 /float(len(class_1) ) * 100. ) ) "
   ]
  },
  {
   "cell_type": "code",
   "execution_count": 139,
   "metadata": {
    "collapsed": false
   },
   "outputs": [
    {
     "name": "stdout",
     "output_type": "stream",
     "text": [
      "Tickets starting with characters 'PC' compose \n",
      "27.778 percent of all 1st class tickets\n"
     ]
    }
   ],
   "source": [
    "count_class_1_PC = 0\n",
    "for s in class_1:\n",
    "    if s[0:2] == \"PC\":\n",
    "        count_class_1_PC = count_class_1_PC + 1\n",
    "print ( \"Tickets starting with characters 'PC' compose \" )\n",
    "print ( \"%2.3f percent of all 1st class tickets\" %( count_class_1_PC / float(len(class_1)) * 100. ) )"
   ]
  },
  {
   "cell_type": "markdown",
   "metadata": {},
   "source": [
    "#### class 2\n",
    "* 64.674 percent of tickets of class 2 begin with '2'\n",
    "\n",
    "* If we also count tickets starting with str characters, 73.913 percent of tickets of class 2 begin with '2'\n",
    "\n",
    "* all the tickets with code \"STON/O2.\" and \"STON/O 2.\" begin with 3102"
   ]
  },
  {
   "cell_type": "code",
   "execution_count": 140,
   "metadata": {
    "collapsed": false
   },
   "outputs": [
    {
     "name": "stdout",
     "output_type": "stream",
     "text": [
      "9     237736\n",
      "15    248706\n",
      "17    244373\n",
      "20    239865\n",
      "21    248698\n",
      "Name: Ticket, dtype: object\n",
      "\n",
      "64.674 percent of tickets of class 2 begin with '2'\n"
     ]
    }
   ],
   "source": [
    "class_2 = train_df[train_df[ \"Pclass\" ] == 2 ][\"Ticket\"] \n",
    "print (class_2.head())\n",
    "\n",
    "total_num_begin_with_2 = 0\n",
    "for s in class_2:\n",
    "    if s[0] == \"2\":\n",
    "#         print ( s )\n",
    "        total_num_begin_with_2 += 1\n",
    "print ( '' )\n",
    "print ( \"%2.3f percent of tickets of class 2 begin with '2'\" %( ( total_num_begin_with_2/float(len(class_2)) ) * 100. ) )"
   ]
  },
  {
   "cell_type": "code",
   "execution_count": 141,
   "metadata": {
    "collapsed": false
   },
   "outputs": [
    {
     "name": "stdout",
     "output_type": "stream",
     "text": [
      "If we also count tickets starting with str characters, \n",
      "73.913 percent of tickets of class 2 begin with '2'\n"
     ]
    }
   ],
   "source": [
    "total_num_begin_with_letter_2 = 0\n",
    "for s in class_2:\n",
    "    if s[0] <> \"2\" and \" \" in s:\n",
    "        s = s.split(\" \")[1]\n",
    "        if s[0] == \"2\":\n",
    "            total_num_begin_with_letter_2 += 1\n",
    "print ( \"If we also count tickets starting with str characters, \" )\n",
    "print ( \"%2.3f percent of tickets of class 2 begin with '2'\" %( ( total_num_begin_with_2 + total_num_begin_with_letter_2 )\\\n",
    "                                                                 /float(len(class_2) ) * 100. ) )"
   ]
  },
  {
   "cell_type": "markdown",
   "metadata": {},
   "source": [
    "#### class 3\n",
    "* 57.434 percent of tickets of class 2 begin with '2'\n",
    "\n",
    "* If we also count tickets starting with str characters, 73.913 percent of tickets of class 2 begin with '2'\n",
    "\n",
    "* Tickets starting with characters 'STON/O2. or STON O 2.' compose 3.666 percent of all 3d class tickets"
   ]
  },
  {
   "cell_type": "code",
   "execution_count": 142,
   "metadata": {
    "collapsed": false
   },
   "outputs": [
    {
     "name": "stdout",
     "output_type": "stream",
     "text": [
      "\n",
      "57.434 percent of tickets of class 3 begin with '3'\n"
     ]
    }
   ],
   "source": [
    "class_3 = train_df[train_df[ \"Pclass\" ] == 3 ][\"Ticket\"] \n",
    "\n",
    "total_num_begin_with_3 = 0\n",
    "for s in class_3:\n",
    "    if s[0] == \"3\":\n",
    "        total_num_begin_with_3 = total_num_begin_with_3 + 1\n",
    "print ( '' )\n",
    "print ( \"%2.3f percent of tickets of class 3 begin with '3'\" %( ( total_num_begin_with_3/float(len(class_3)) ) * 100. ) )"
   ]
  },
  {
   "cell_type": "code",
   "execution_count": 143,
   "metadata": {
    "collapsed": false
   },
   "outputs": [
    {
     "name": "stdout",
     "output_type": "stream",
     "text": [
      "STON/O2. 3101282\n",
      "STON/O 2. 3101294\n",
      "STON/O2. 3101279\n",
      "STON/O 2. 3101280\n",
      "STON/O2. 3101283\n",
      "STON/O 2. 3101275\n",
      "STON/O 2. 3101293\n",
      "STON/O 2. 3101289\n",
      "STON/O2. 3101279\n",
      "STON/O 2. 3101269\n",
      "STON/O 2. 3101274\n",
      "STON/O 2. 3101286\n",
      "STON/O 2. 3101273\n",
      "STON/O 2. 3101292\n",
      "STON/O 2. 3101285\n",
      "STON/O2. 3101271\n",
      "STON/O 2. 3101288\n",
      "STON/O2. 3101290\n",
      "Tickets starting with characters 'STON/O2. or STON O 2.' compose \n",
      "3.666 percent of all 3d class tickets\n"
     ]
    }
   ],
   "source": [
    "count_class_3_STON = 0\n",
    "for s in class_3:\n",
    "    if s[0:3] == \"STO\":\n",
    "        count_class_3_STON += 1\n",
    "        print ( s )\n",
    "print ( \"Tickets starting with characters 'STON/O2. or STON O 2.' compose \" )\n",
    "print ( \"%2.3f percent of all 3d class tickets\" %( count_class_3_STON / float(len(class_3)) * 100. ) )"
   ]
  },
  {
   "cell_type": "markdown",
   "metadata": {},
   "source": [
    "-----------------------------------------"
   ]
  },
  {
   "cell_type": "markdown",
   "metadata": {},
   "source": [
    "### What part of passengers was able to survive?"
   ]
  },
  {
   "cell_type": "code",
   "execution_count": 144,
   "metadata": {
    "collapsed": false
   },
   "outputs": [
    {
     "name": "stdout",
     "output_type": "stream",
     "text": [
      "342 people survived\n",
      "This is 38 percent of all passengers\n"
     ]
    }
   ],
   "source": [
    "print ( \"%i people survived\" %sum( train_df [ 'Survived' ] ) )\n",
    "print ( \"This is %i percent of all passengers\" %(sum( train_df [ 'Survived' ] ) /float ( len ( train_df.index) ) *100 ) )\n"
   ]
  },
  {
   "cell_type": "markdown",
   "metadata": {},
   "source": [
    "-----------------------------------------"
   ]
  },
  {
   "cell_type": "markdown",
   "metadata": {},
   "source": [
    "### Are there any correlation between the number of brothers/sisters and the number of parents/kids ?\n",
    "\n",
    "Re:\n",
    "* There are 142 passengers with family members aboard\n",
    "* In percentage they compose ~16% of all passengers\n",
    "* There are members of the family with 8 Siblings/Spouses and 2 Parents/Children on board ( but in the train set there is no person with 9 SibSp and 1 Parch, so the parents  ust be in the train set\n",
    "* There are members of the family with 5 Siblings/Spouses and 2 Parents/Children on board\n",
    "* families with 4 Siblings/Spouses have 1 or 2 Parents/Children members\n",
    "* families with 3 Siblings/Spouses have 0 - 2 Parents/Children members\n"
   ]
  },
  {
   "cell_type": "code",
   "execution_count": 145,
   "metadata": {
    "collapsed": false
   },
   "outputs": [
    {
     "data": {
      "text/html": [
       "<div>\n",
       "<table border=\"1\" class=\"dataframe\">\n",
       "  <thead>\n",
       "    <tr style=\"text-align: right;\">\n",
       "      <th></th>\n",
       "      <th>SibSp</th>\n",
       "      <th>Parch</th>\n",
       "    </tr>\n",
       "  </thead>\n",
       "  <tbody>\n",
       "    <tr>\n",
       "      <th>SibSp</th>\n",
       "      <td>1.000000</td>\n",
       "      <td>0.414838</td>\n",
       "    </tr>\n",
       "    <tr>\n",
       "      <th>Parch</th>\n",
       "      <td>0.414838</td>\n",
       "      <td>1.000000</td>\n",
       "    </tr>\n",
       "  </tbody>\n",
       "</table>\n",
       "</div>"
      ],
      "text/plain": [
       "          SibSp     Parch\n",
       "SibSp  1.000000  0.414838\n",
       "Parch  0.414838  1.000000"
      ]
     },
     "execution_count": 145,
     "metadata": {},
     "output_type": "execute_result"
    }
   ],
   "source": [
    "train_df[ [ 'SibSp', 'Parch' ] ].corr()"
   ]
  },
  {
   "cell_type": "markdown",
   "metadata": {},
   "source": [
    "passengers with family members"
   ]
  },
  {
   "cell_type": "code",
   "execution_count": 146,
   "metadata": {
    "collapsed": false
   },
   "outputs": [
    {
     "name": "stdout",
     "output_type": "stream",
     "text": [
      "142\n"
     ]
    }
   ],
   "source": [
    "print( len ( train_df[ ( train_df['SibSp'] > 0 ) & ( train_df['Parch'] > 0 ) ] ) )"
   ]
  },
  {
   "cell_type": "markdown",
   "metadata": {},
   "source": [
    "In percentage they compose ~16% of all passengers"
   ]
  },
  {
   "cell_type": "code",
   "execution_count": 147,
   "metadata": {
    "collapsed": false
   },
   "outputs": [
    {
     "data": {
      "text/plain": [
       "15.937149270482603"
      ]
     },
     "execution_count": 147,
     "metadata": {},
     "output_type": "execute_result"
    }
   ],
   "source": [
    "float ( len ( train_df[ ( train_df['SibSp'] > 0 ) \\\n",
    "                       & ( train_df['Parch'] > 0 ) ].index ) ) / float ( len ( train_df.index) ) * 100"
   ]
  },
  {
   "cell_type": "code",
   "execution_count": 148,
   "metadata": {
    "collapsed": false
   },
   "outputs": [
    {
     "name": "stdout",
     "output_type": "stream",
     "text": [
      "[(0,      PassengerId  SibSp  Parch\n",
      "2              3      0      0\n",
      "4              5      0      0\n",
      "5              6      0      0\n",
      "6              7      0      0\n",
      "8              9      0      2\n",
      "11            12      0      0\n",
      "12            13      0      0\n",
      "14            15      0      0\n",
      "15            16      0      0\n",
      "17            18      0      0\n",
      "19            20      0      0\n",
      "20            21      0      0\n",
      "21            22      0      0\n",
      "22            23      0      0\n",
      "23            24      0      0\n",
      "26            27      0      0\n",
      "28            29      0      0\n",
      "29            30      0      0\n",
      "30            31      0      0\n",
      "32            33      0      0\n",
      "33            34      0      0\n",
      "36            37      0      0\n",
      "37            38      0      0\n",
      "42            43      0      0\n",
      "44            45      0      0\n",
      "45            46      0      0\n",
      "47            48      0      0\n",
      "51            52      0      0\n",
      "54            55      0      1\n",
      "55            56      0      0\n",
      "..           ...    ...    ...\n",
      "848          849      0      1\n",
      "851          852      0      0\n",
      "853          854      0      1\n",
      "855          856      0      1\n",
      "857          858      0      0\n",
      "858          859      0      3\n",
      "859          860      0      0\n",
      "862          863      0      0\n",
      "864          865      0      0\n",
      "865          866      0      0\n",
      "867          868      0      0\n",
      "868          869      0      0\n",
      "870          871      0      0\n",
      "872          873      0      0\n",
      "873          874      0      0\n",
      "875          876      0      0\n",
      "876          877      0      0\n",
      "877          878      0      0\n",
      "878          879      0      0\n",
      "879          880      0      1\n",
      "880          881      0      1\n",
      "881          882      0      0\n",
      "882          883      0      0\n",
      "883          884      0      0\n",
      "884          885      0      0\n",
      "885          886      0      5\n",
      "886          887      0      0\n",
      "887          888      0      0\n",
      "889          890      0      0\n",
      "890          891      0      0\n",
      "\n",
      "[608 rows x 3 columns]), (1,      PassengerId  SibSp  Parch\n",
      "0              1      1      0\n",
      "1              2      1      0\n",
      "3              4      1      0\n",
      "9             10      1      0\n",
      "10            11      1      1\n",
      "13            14      1      5\n",
      "18            19      1      0\n",
      "25            26      1      5\n",
      "31            32      1      0\n",
      "34            35      1      0\n",
      "35            36      1      0\n",
      "39            40      1      0\n",
      "40            41      1      0\n",
      "41            42      1      0\n",
      "43            44      1      2\n",
      "46            47      1      0\n",
      "49            50      1      0\n",
      "52            53      1      0\n",
      "53            54      1      0\n",
      "58            59      1      2\n",
      "62            63      1      0\n",
      "65            66      1      1\n",
      "73            74      1      0\n",
      "86            87      1      3\n",
      "92            93      1      0\n",
      "93            94      1      2\n",
      "99           100      1      0\n",
      "109          110      1      0\n",
      "111          112      1      0\n",
      "113          114      1      0\n",
      "..           ...    ...    ...\n",
      "748          749      1      0\n",
      "750          751      1      1\n",
      "754          755      1      2\n",
      "755          756      1      1\n",
      "763          764      1      2\n",
      "765          766      1      0\n",
      "768          769      1      0\n",
      "774          775      1      3\n",
      "781          782      1      0\n",
      "783          784      1      2\n",
      "788          789      1      2\n",
      "799          800      1      1\n",
      "801          802      1      1\n",
      "802          803      1      2\n",
      "809          810      1      0\n",
      "817          818      1      1\n",
      "820          821      1      1\n",
      "830          831      1      0\n",
      "831          832      1      1\n",
      "835          836      1      1\n",
      "849          850      1      0\n",
      "852          853      1      1\n",
      "854          855      1      0\n",
      "856          857      1      1\n",
      "861          862      1      0\n",
      "866          867      1      0\n",
      "869          870      1      1\n",
      "871          872      1      1\n",
      "874          875      1      0\n",
      "888          889      1      2\n",
      "\n",
      "[209 rows x 3 columns]), (2,      PassengerId  SibSp  Parch\n",
      "38            39      2      0\n",
      "48            49      2      0\n",
      "69            70      2      0\n",
      "104          105      2      0\n",
      "120          121      2      0\n",
      "147          148      2      2\n",
      "183          184      2      1\n",
      "245          246      2      0\n",
      "301          302      2      0\n",
      "311          312      2      2\n",
      "330          331      2      0\n",
      "333          334      2      0\n",
      "392          393      2      0\n",
      "436          437      2      2\n",
      "437          438      2      3\n",
      "448          449      2      1\n",
      "469          470      2      1\n",
      "529          530      2      1\n",
      "565          566      2      0\n",
      "571          572      2      0\n",
      "600          601      2      1\n",
      "618          619      2      1\n",
      "644          645      2      1\n",
      "655          656      2      0\n",
      "660          661      2      0\n",
      "665          666      2      0\n",
      "742          743      2      2\n",
      "860          861      2      0), (3,      PassengerId  SibSp  Parch\n",
      "7              8      3      1\n",
      "24            25      3      1\n",
      "27            28      3      2\n",
      "63            64      3      2\n",
      "85            86      3      0\n",
      "88            89      3      2\n",
      "176          177      3      1\n",
      "229          230      3      1\n",
      "341          342      3      2\n",
      "374          375      3      1\n",
      "409          410      3      1\n",
      "485          486      3      1\n",
      "634          635      3      2\n",
      "642          643      3      2\n",
      "726          727      3      0\n",
      "819          820      3      2), (4,      PassengerId  SibSp  Parch\n",
      "16            17      4      1\n",
      "50            51      4      1\n",
      "68            69      4      2\n",
      "119          120      4      2\n",
      "164          165      4      1\n",
      "171          172      4      1\n",
      "182          183      4      2\n",
      "233          234      4      2\n",
      "261          262      4      2\n",
      "266          267      4      1\n",
      "278          279      4      1\n",
      "541          542      4      2\n",
      "542          543      4      2\n",
      "686          687      4      1\n",
      "787          788      4      1\n",
      "813          814      4      2\n",
      "824          825      4      1\n",
      "850          851      4      2), (5,      PassengerId  SibSp  Parch\n",
      "59            60      5      2\n",
      "71            72      5      2\n",
      "386          387      5      2\n",
      "480          481      5      2\n",
      "683          684      5      2), (8,      PassengerId  SibSp  Parch\n",
      "159          160      8      2\n",
      "180          181      8      2\n",
      "201          202      8      2\n",
      "324          325      8      2\n",
      "792          793      8      2\n",
      "846          847      8      2\n",
      "863          864      8      2)]\n"
     ]
    }
   ],
   "source": [
    "Sibsp_group_by_sib = list ( train_df[['PassengerId','SibSp', 'Parch']].groupby(train_df[\"SibSp\"]) )\n",
    "\n",
    "print ( Sibsp_group_by_sib )"
   ]
  },
  {
   "cell_type": "code",
   "execution_count": 149,
   "metadata": {
    "collapsed": false
   },
   "outputs": [
    {
     "name": "stdout",
     "output_type": "stream",
     "text": [
      "[(0,      PassengerId  SibSp  Parch\n",
      "0              1      1      0\n",
      "1              2      1      0\n",
      "2              3      0      0\n",
      "3              4      1      0\n",
      "4              5      0      0\n",
      "5              6      0      0\n",
      "6              7      0      0\n",
      "9             10      1      0\n",
      "11            12      0      0\n",
      "12            13      0      0\n",
      "14            15      0      0\n",
      "15            16      0      0\n",
      "17            18      0      0\n",
      "18            19      1      0\n",
      "19            20      0      0\n",
      "20            21      0      0\n",
      "21            22      0      0\n",
      "22            23      0      0\n",
      "23            24      0      0\n",
      "26            27      0      0\n",
      "28            29      0      0\n",
      "29            30      0      0\n",
      "30            31      0      0\n",
      "31            32      1      0\n",
      "32            33      0      0\n",
      "33            34      0      0\n",
      "34            35      1      0\n",
      "35            36      1      0\n",
      "36            37      0      0\n",
      "37            38      0      0\n",
      "..           ...    ...    ...\n",
      "847          848      0      0\n",
      "849          850      1      0\n",
      "851          852      0      0\n",
      "854          855      1      0\n",
      "857          858      0      0\n",
      "859          860      0      0\n",
      "860          861      2      0\n",
      "861          862      1      0\n",
      "862          863      0      0\n",
      "864          865      0      0\n",
      "865          866      0      0\n",
      "866          867      1      0\n",
      "867          868      0      0\n",
      "868          869      0      0\n",
      "870          871      0      0\n",
      "872          873      0      0\n",
      "873          874      0      0\n",
      "874          875      1      0\n",
      "875          876      0      0\n",
      "876          877      0      0\n",
      "877          878      0      0\n",
      "878          879      0      0\n",
      "881          882      0      0\n",
      "882          883      0      0\n",
      "883          884      0      0\n",
      "884          885      0      0\n",
      "886          887      0      0\n",
      "887          888      0      0\n",
      "889          890      0      0\n",
      "890          891      0      0\n",
      "\n",
      "[678 rows x 3 columns]), (1,      PassengerId  SibSp  Parch\n",
      "7              8      3      1\n",
      "10            11      1      1\n",
      "16            17      4      1\n",
      "24            25      3      1\n",
      "50            51      4      1\n",
      "54            55      0      1\n",
      "65            66      1      1\n",
      "97            98      0      1\n",
      "98            99      0      1\n",
      "102          103      0      1\n",
      "118          119      0      1\n",
      "124          125      0      1\n",
      "128          129      1      1\n",
      "145          146      1      1\n",
      "155          156      0      1\n",
      "160          161      0      1\n",
      "164          165      4      1\n",
      "166          167      0      1\n",
      "171          172      4      1\n",
      "172          173      1      1\n",
      "175          176      1      1\n",
      "176          177      3      1\n",
      "183          184      2      1\n",
      "188          189      1      1\n",
      "193          194      1      1\n",
      "197          198      0      1\n",
      "205          206      0      1\n",
      "229          230      3      1\n",
      "248          249      1      1\n",
      "251          252      1      1\n",
      "..           ...    ...    ...\n",
      "691          692      0      1\n",
      "698          699      1      1\n",
      "702          703      0      1\n",
      "709          710      1      1\n",
      "720          721      0      1\n",
      "745          746      1      1\n",
      "746          747      1      1\n",
      "750          751      1      1\n",
      "751          752      0      1\n",
      "755          756      1      1\n",
      "779          780      0      1\n",
      "787          788      4      1\n",
      "799          800      1      1\n",
      "801          802      1      1\n",
      "803          804      0      1\n",
      "817          818      1      1\n",
      "820          821      1      1\n",
      "823          824      0      1\n",
      "824          825      4      1\n",
      "831          832      1      1\n",
      "835          836      1      1\n",
      "848          849      0      1\n",
      "852          853      1      1\n",
      "853          854      0      1\n",
      "855          856      0      1\n",
      "856          857      1      1\n",
      "869          870      1      1\n",
      "871          872      1      1\n",
      "879          880      0      1\n",
      "880          881      0      1\n",
      "\n",
      "[118 rows x 3 columns]), (2,      PassengerId  SibSp  Parch\n",
      "8              9      0      2\n",
      "27            28      3      2\n",
      "43            44      1      2\n",
      "58            59      1      2\n",
      "59            60      5      2\n",
      "63            64      3      2\n",
      "68            69      4      2\n",
      "71            72      5      2\n",
      "78            79      0      2\n",
      "88            89      3      2\n",
      "93            94      1      2\n",
      "119          120      4      2\n",
      "136          137      0      2\n",
      "140          141      0      2\n",
      "147          148      2      2\n",
      "148          149      0      2\n",
      "153          154      0      2\n",
      "159          160      8      2\n",
      "165          166      0      2\n",
      "180          181      8      2\n",
      "182          183      4      2\n",
      "184          185      0      2\n",
      "201          202      8      2\n",
      "233          234      4      2\n",
      "237          238      0      2\n",
      "247          248      0      2\n",
      "254          255      0      2\n",
      "255          256      0      2\n",
      "261          262      4      2\n",
      "297          298      1      2\n",
      "..           ...    ...    ...\n",
      "533          534      0      2\n",
      "535          536      0      2\n",
      "539          540      0      2\n",
      "540          541      0      2\n",
      "541          542      4      2\n",
      "542          543      4      2\n",
      "550          551      0      2\n",
      "585          586      0      2\n",
      "593          594      0      2\n",
      "608          609      1      2\n",
      "615          616      1      2\n",
      "634          635      3      2\n",
      "642          643      3      2\n",
      "659          660      0      2\n",
      "683          684      5      2\n",
      "685          686      1      2\n",
      "742          743      2      2\n",
      "754          755      1      2\n",
      "763          764      1      2\n",
      "783          784      1      2\n",
      "788          789      1      2\n",
      "792          793      8      2\n",
      "802          803      1      2\n",
      "813          814      4      2\n",
      "819          820      3      2\n",
      "827          828      0      2\n",
      "846          847      8      2\n",
      "850          851      4      2\n",
      "863          864      8      2\n",
      "888          889      1      2\n",
      "\n",
      "[80 rows x 3 columns]), (3,      PassengerId  SibSp  Parch\n",
      "86            87      1      3\n",
      "437          438      2      3\n",
      "736          737      1      3\n",
      "774          775      1      3\n",
      "858          859      0      3), (4,      PassengerId  SibSp  Parch\n",
      "167          168      1      4\n",
      "360          361      1      4\n",
      "438          439      1      4\n",
      "567          568      0      4), (5,      PassengerId  SibSp  Parch\n",
      "13            14      1      5\n",
      "25            26      1      5\n",
      "610          611      1      5\n",
      "638          639      0      5\n",
      "885          886      0      5), (6,      PassengerId  SibSp  Parch\n",
      "678          679      1      6)]\n"
     ]
    }
   ],
   "source": [
    "Sibsp_group_by_par = list ( train_df[['PassengerId','SibSp', 'Parch']].groupby(train_df[\"Parch\"]) )\n",
    "\n",
    "print ( Sibsp_group_by_par )"
   ]
  },
  {
   "cell_type": "code",
   "execution_count": 150,
   "metadata": {
    "collapsed": false
   },
   "outputs": [
    {
     "name": "stdout",
     "output_type": "stream",
     "text": [
      "[((0, 0),      PassengerId  SibSp  Parch\n",
      "2              3      0      0\n",
      "4              5      0      0\n",
      "5              6      0      0\n",
      "6              7      0      0\n",
      "11            12      0      0\n",
      "12            13      0      0\n",
      "14            15      0      0\n",
      "15            16      0      0\n",
      "17            18      0      0\n",
      "19            20      0      0\n",
      "20            21      0      0\n",
      "21            22      0      0\n",
      "22            23      0      0\n",
      "23            24      0      0\n",
      "26            27      0      0\n",
      "28            29      0      0\n",
      "29            30      0      0\n",
      "30            31      0      0\n",
      "32            33      0      0\n",
      "33            34      0      0\n",
      "36            37      0      0\n",
      "37            38      0      0\n",
      "42            43      0      0\n",
      "44            45      0      0\n",
      "45            46      0      0\n",
      "47            48      0      0\n",
      "51            52      0      0\n",
      "55            56      0      0\n",
      "56            57      0      0\n",
      "57            58      0      0\n",
      "..           ...    ...    ...\n",
      "840          841      0      0\n",
      "841          842      0      0\n",
      "842          843      0      0\n",
      "843          844      0      0\n",
      "844          845      0      0\n",
      "845          846      0      0\n",
      "847          848      0      0\n",
      "851          852      0      0\n",
      "857          858      0      0\n",
      "859          860      0      0\n",
      "862          863      0      0\n",
      "864          865      0      0\n",
      "865          866      0      0\n",
      "867          868      0      0\n",
      "868          869      0      0\n",
      "870          871      0      0\n",
      "872          873      0      0\n",
      "873          874      0      0\n",
      "875          876      0      0\n",
      "876          877      0      0\n",
      "877          878      0      0\n",
      "878          879      0      0\n",
      "881          882      0      0\n",
      "882          883      0      0\n",
      "883          884      0      0\n",
      "884          885      0      0\n",
      "886          887      0      0\n",
      "887          888      0      0\n",
      "889          890      0      0\n",
      "890          891      0      0\n",
      "\n",
      "[537 rows x 3 columns]), ((0, 1),      PassengerId  SibSp  Parch\n",
      "54            55      0      1\n",
      "97            98      0      1\n",
      "98            99      0      1\n",
      "102          103      0      1\n",
      "118          119      0      1\n",
      "124          125      0      1\n",
      "155          156      0      1\n",
      "160          161      0      1\n",
      "166          167      0      1\n",
      "197          198      0      1\n",
      "205          206      0      1\n",
      "259          260      0      1\n",
      "268          269      0      1\n",
      "272          273      0      1\n",
      "273          274      0      1\n",
      "299          300      0      1\n",
      "329          330      0      1\n",
      "332          333      0      1\n",
      "356          357      0      1\n",
      "362          363      0      1\n",
      "446          447      0      1\n",
      "479          480      0      1\n",
      "523          524      0      1\n",
      "651          652      0      1\n",
      "679          680      0      1\n",
      "689          690      0      1\n",
      "691          692      0      1\n",
      "702          703      0      1\n",
      "720          721      0      1\n",
      "751          752      0      1\n",
      "779          780      0      1\n",
      "803          804      0      1\n",
      "823          824      0      1\n",
      "848          849      0      1\n",
      "853          854      0      1\n",
      "855          856      0      1\n",
      "879          880      0      1\n",
      "880          881      0      1), ((0, 2),      PassengerId  SibSp  Parch\n",
      "8              9      0      2\n",
      "78            79      0      2\n",
      "136          137      0      2\n",
      "140          141      0      2\n",
      "148          149      0      2\n",
      "153          154      0      2\n",
      "165          166      0      2\n",
      "184          185      0      2\n",
      "237          238      0      2\n",
      "247          248      0      2\n",
      "254          255      0      2\n",
      "255          256      0      2\n",
      "318          319      0      2\n",
      "377          378      0      2\n",
      "381          382      0      2\n",
      "394          395      0      2\n",
      "417          418      0      2\n",
      "419          420      0      2\n",
      "445          446      0      2\n",
      "506          507      0      2\n",
      "533          534      0      2\n",
      "535          536      0      2\n",
      "539          540      0      2\n",
      "540          541      0      2\n",
      "550          551      0      2\n",
      "585          586      0      2\n",
      "593          594      0      2\n",
      "659          660      0      2\n",
      "827          828      0      2), ((0, 3),      PassengerId  SibSp  Parch\n",
      "858          859      0      3), ((0, 4),      PassengerId  SibSp  Parch\n",
      "567          568      0      4), ((0, 5),      PassengerId  SibSp  Parch\n",
      "638          639      0      5\n",
      "885          886      0      5), ((1, 0),      PassengerId  SibSp  Parch\n",
      "0              1      1      0\n",
      "1              2      1      0\n",
      "3              4      1      0\n",
      "9             10      1      0\n",
      "18            19      1      0\n",
      "31            32      1      0\n",
      "34            35      1      0\n",
      "35            36      1      0\n",
      "39            40      1      0\n",
      "40            41      1      0\n",
      "41            42      1      0\n",
      "46            47      1      0\n",
      "49            50      1      0\n",
      "52            53      1      0\n",
      "53            54      1      0\n",
      "62            63      1      0\n",
      "73            74      1      0\n",
      "92            93      1      0\n",
      "99           100      1      0\n",
      "109          110      1      0\n",
      "111          112      1      0\n",
      "113          114      1      0\n",
      "117          118      1      0\n",
      "122          123      1      0\n",
      "125          126      1      0\n",
      "132          133      1      0\n",
      "133          134      1      0\n",
      "137          138      1      0\n",
      "142          143      1      0\n",
      "151          152      1      0\n",
      "..           ...    ...    ...\n",
      "612          613      1      0\n",
      "617          618      1      0\n",
      "620          621      1      0\n",
      "621          622      1      0\n",
      "639          640      1      0\n",
      "645          646      1      0\n",
      "664          665      1      0\n",
      "669          670      1      0\n",
      "671          672      1      0\n",
      "690          691      1      0\n",
      "700          701      1      0\n",
      "704          705      1      0\n",
      "712          713      1      0\n",
      "721          722      1      0\n",
      "724          725      1      0\n",
      "728          729      1      0\n",
      "729          730      1      0\n",
      "741          742      1      0\n",
      "743          744      1      0\n",
      "748          749      1      0\n",
      "765          766      1      0\n",
      "768          769      1      0\n",
      "781          782      1      0\n",
      "809          810      1      0\n",
      "830          831      1      0\n",
      "849          850      1      0\n",
      "854          855      1      0\n",
      "861          862      1      0\n",
      "866          867      1      0\n",
      "874          875      1      0\n",
      "\n",
      "[123 rows x 3 columns]), ((1, 1),      PassengerId  SibSp  Parch\n",
      "10            11      1      1\n",
      "65            66      1      1\n",
      "128          129      1      1\n",
      "145          146      1      1\n",
      "172          173      1      1\n",
      "175          176      1      1\n",
      "188          189      1      1\n",
      "193          194      1      1\n",
      "248          249      1      1\n",
      "251          252      1      1\n",
      "262          263      1      1\n",
      "279          280      1      1\n",
      "312          313      1      1\n",
      "314          315      1      1\n",
      "319          320      1      1\n",
      "323          324      1      1\n",
      "328          329      1      1\n",
      "340          341      1      1\n",
      "348          349      1      1\n",
      "352          353      1      1\n",
      "407          408      1      1\n",
      "416          417      1      1\n",
      "423          424      1      1\n",
      "424          425      1      1\n",
      "440          441      1      1\n",
      "489          490      1      1\n",
      "530          531      1      1\n",
      "532          533      1      1\n",
      "548          549      1      1\n",
      "549          550      1      1\n",
      "558          559      1      1\n",
      "580          581      1      1\n",
      "581          582      1      1\n",
      "587          588      1      1\n",
      "595          596      1      1\n",
      "616          617      1      1\n",
      "622          623      1      1\n",
      "637          638      1      1\n",
      "657          658      1      1\n",
      "670          671      1      1\n",
      "684          685      1      1\n",
      "698          699      1      1\n",
      "709          710      1      1\n",
      "745          746      1      1\n",
      "746          747      1      1\n",
      "750          751      1      1\n",
      "755          756      1      1\n",
      "799          800      1      1\n",
      "801          802      1      1\n",
      "817          818      1      1\n",
      "820          821      1      1\n",
      "831          832      1      1\n",
      "835          836      1      1\n",
      "852          853      1      1\n",
      "856          857      1      1\n",
      "869          870      1      1\n",
      "871          872      1      1), ((1, 2),      PassengerId  SibSp  Parch\n",
      "43            44      1      2\n",
      "58            59      1      2\n",
      "93            94      1      2\n",
      "297          298      1      2\n",
      "305          306      1      2\n",
      "390          391      1      2\n",
      "435          436      1      2\n",
      "450          451      1      2\n",
      "472          473      1      2\n",
      "498          499      1      2\n",
      "608          609      1      2\n",
      "615          616      1      2\n",
      "685          686      1      2\n",
      "754          755      1      2\n",
      "763          764      1      2\n",
      "783          784      1      2\n",
      "788          789      1      2\n",
      "802          803      1      2\n",
      "888          889      1      2), ((1, 3),      PassengerId  SibSp  Parch\n",
      "86            87      1      3\n",
      "736          737      1      3\n",
      "774          775      1      3), ((1, 4),      PassengerId  SibSp  Parch\n",
      "167          168      1      4\n",
      "360          361      1      4\n",
      "438          439      1      4), ((1, 5),      PassengerId  SibSp  Parch\n",
      "13            14      1      5\n",
      "25            26      1      5\n",
      "610          611      1      5), ((1, 6),      PassengerId  SibSp  Parch\n",
      "678          679      1      6), ((2, 0),      PassengerId  SibSp  Parch\n",
      "38            39      2      0\n",
      "48            49      2      0\n",
      "69            70      2      0\n",
      "104          105      2      0\n",
      "120          121      2      0\n",
      "245          246      2      0\n",
      "301          302      2      0\n",
      "330          331      2      0\n",
      "333          334      2      0\n",
      "392          393      2      0\n",
      "565          566      2      0\n",
      "571          572      2      0\n",
      "655          656      2      0\n",
      "660          661      2      0\n",
      "665          666      2      0\n",
      "860          861      2      0), ((2, 1),      PassengerId  SibSp  Parch\n",
      "183          184      2      1\n",
      "448          449      2      1\n",
      "469          470      2      1\n",
      "529          530      2      1\n",
      "600          601      2      1\n",
      "618          619      2      1\n",
      "644          645      2      1), ((2, 2),      PassengerId  SibSp  Parch\n",
      "147          148      2      2\n",
      "311          312      2      2\n",
      "436          437      2      2\n",
      "742          743      2      2), ((2, 3),      PassengerId  SibSp  Parch\n",
      "437          438      2      3), ((3, 0),      PassengerId  SibSp  Parch\n",
      "85            86      3      0\n",
      "726          727      3      0), ((3, 1),      PassengerId  SibSp  Parch\n",
      "7              8      3      1\n",
      "24            25      3      1\n",
      "176          177      3      1\n",
      "229          230      3      1\n",
      "374          375      3      1\n",
      "409          410      3      1\n",
      "485          486      3      1), ((3, 2),      PassengerId  SibSp  Parch\n",
      "27            28      3      2\n",
      "63            64      3      2\n",
      "88            89      3      2\n",
      "341          342      3      2\n",
      "634          635      3      2\n",
      "642          643      3      2\n",
      "819          820      3      2), ((4, 1),      PassengerId  SibSp  Parch\n",
      "16            17      4      1\n",
      "50            51      4      1\n",
      "164          165      4      1\n",
      "171          172      4      1\n",
      "266          267      4      1\n",
      "278          279      4      1\n",
      "686          687      4      1\n",
      "787          788      4      1\n",
      "824          825      4      1), ((4, 2),      PassengerId  SibSp  Parch\n",
      "68            69      4      2\n",
      "119          120      4      2\n",
      "182          183      4      2\n",
      "233          234      4      2\n",
      "261          262      4      2\n",
      "541          542      4      2\n",
      "542          543      4      2\n",
      "813          814      4      2\n",
      "850          851      4      2), ((5, 2),      PassengerId  SibSp  Parch\n",
      "59            60      5      2\n",
      "71            72      5      2\n",
      "386          387      5      2\n",
      "480          481      5      2\n",
      "683          684      5      2), ((8, 2),      PassengerId  SibSp  Parch\n",
      "159          160      8      2\n",
      "180          181      8      2\n",
      "201          202      8      2\n",
      "324          325      8      2\n",
      "792          793      8      2\n",
      "846          847      8      2\n",
      "863          864      8      2)]\n"
     ]
    }
   ],
   "source": [
    "Sibsp_group_by_sib_par = list ( train_df[['PassengerId','SibSp', 'Parch']].groupby(['SibSp', 'Parch']) )\n",
    "\n",
    "print ( Sibsp_group_by_sib_par )"
   ]
  },
  {
   "cell_type": "code",
   "execution_count": 151,
   "metadata": {
    "collapsed": false
   },
   "outputs": [
    {
     "data": {
      "text/plain": [
       "8"
      ]
     },
     "execution_count": 151,
     "metadata": {},
     "output_type": "execute_result"
    }
   ],
   "source": [
    "max( train_df['SibSp'] )"
   ]
  },
  {
   "cell_type": "code",
   "execution_count": 152,
   "metadata": {
    "collapsed": false
   },
   "outputs": [
    {
     "data": {
      "text/plain": [
       "6"
      ]
     },
     "execution_count": 152,
     "metadata": {},
     "output_type": "execute_result"
    }
   ],
   "source": [
    "max( train_df['Parch'] )"
   ]
  },
  {
   "cell_type": "markdown",
   "metadata": {},
   "source": [
    "-----------------------------------------"
   ]
  },
  {
   "cell_type": "markdown",
   "metadata": {},
   "source": [
    "### Females survived more frequently than mens"
   ]
  },
  {
   "cell_type": "code",
   "execution_count": 153,
   "metadata": {
    "collapsed": false
   },
   "outputs": [
    {
     "name": "stdout",
     "output_type": "stream",
     "text": [
      "True\n"
     ]
    }
   ],
   "source": [
    "print ( len ( train_df[ ( train_df['Sex'] == 'female' ) & ( train_df['Survived'] == 1 ) ].index )>\\\n",
    "    len ( train_df[ ( train_df['Sex'] == 'male' ) & ( train_df['Survived'] == 1 ) ].index ) )"
   ]
  },
  {
   "cell_type": "code",
   "execution_count": 154,
   "metadata": {
    "collapsed": false
   },
   "outputs": [
    {
     "name": "stdout",
     "output_type": "stream",
     "text": [
      "Survived women: 233\n",
      "Survived men: 109\n"
     ]
    }
   ],
   "source": [
    "print( \"Survived women: %i\" % (len ( train_df[ ( train_df['Sex'] == 'female' ) \\\n",
    "                                                 & ( train_df['Survived'] == 1 ) ]['Survived'].index ) ) )\n",
    "print( \"Survived men: %i\" % (len ( train_df[ ( train_df['Sex'] == 'male' ) \\\n",
    "                                               & ( train_df['Survived'] == 1 ) ]['Survived'].index ) ) )"
   ]
  },
  {
   "cell_type": "code",
   "execution_count": null,
   "metadata": {
    "collapsed": true
   },
   "outputs": [],
   "source": []
  },
  {
   "cell_type": "code",
   "execution_count": null,
   "metadata": {
    "collapsed": true
   },
   "outputs": [],
   "source": []
  },
  {
   "cell_type": "markdown",
   "metadata": {},
   "source": [
    "### Dependence of survival on the port of embarkation"
   ]
  },
  {
   "cell_type": "markdown",
   "metadata": {},
   "source": [
    "#### Passengers who embarked in the port S survived more frequently"
   ]
  },
  {
   "cell_type": "code",
   "execution_count": 155,
   "metadata": {
    "collapsed": false
   },
   "outputs": [
    {
     "data": {
      "image/png": "[encoded data removed]",
      "text/plain": [
       "<matplotlib.figure.Figure at 0x8910da0>"
      ]
     },
     "metadata": {},
     "output_type": "display_data"
    }
   ],
   "source": [
    "import collections\n",
    "import numpy as np\n",
    "import matplotlib.pyplot as plt\n",
    "\n",
    "survived_in_embark = list ( train_df [ train_df['Survived'] == 1 ] ['Embarked'] )\n",
    "survived_in_embark_count = collections.Counter ( survived_in_embark )\n",
    "\n",
    "fig = plt.figure()\n",
    "ax = fig.add_subplot(111)\n",
    "\n",
    "frequencies = survived_in_embark_count.values()\n",
    "names = survived_in_embark_count.keys()\n",
    "\n",
    "x_coordinates = np.arange(len(survived_in_embark_count))\n",
    "ax.bar(x_coordinates, frequencies, align='center')\n",
    "ax.xaxis.set_major_locator(plt.FixedLocator(x_coordinates))\n",
    "ax.xaxis.set_major_formatter(plt.FixedFormatter(names))\n",
    "plt.ylabel('Number of survived passengers')\n",
    "plt.xlabel('Port of embarkation')\n",
    "\n",
    "plt.show()"
   ]
  },
  {
   "cell_type": "markdown",
   "metadata": {},
   "source": [
    "-------------------------------------------------------------"
   ]
  },
  {
   "cell_type": "markdown",
   "metadata": {},
   "source": [
    "### Dependence of survival on the 1st letter of cabin name and thus on the place of the passenger on board the ship"
   ]
  },
  {
   "cell_type": "markdown",
   "metadata": {},
   "source": [
    "#### * there is too many 'nan' data in cabin name column\n",
    "#### * passengers from cabins that start with \"B\" and \"C\" survived more frequently than from the cabin with other letters"
   ]
  },
  {
   "cell_type": "code",
   "execution_count": 156,
   "metadata": {
    "collapsed": false
   },
   "outputs": [
    {
     "data": {
      "text/plain": [
       "[nan,\n",
       " nan,\n",
       " nan,\n",
       " 'E46',\n",
       " nan,\n",
       " nan,\n",
       " nan,\n",
       " nan,\n",
       " nan,\n",
       " nan,\n",
       " nan,\n",
       " nan,\n",
       " nan,\n",
       " 'C23 C25 C27',\n",
       " nan,\n",
       " nan,\n",
       " nan,\n",
       " nan,\n",
       " nan,\n",
       " nan,\n",
       " nan,\n",
       " nan,\n",
       " nan,\n",
       " nan,\n",
       " nan,\n",
       " nan,\n",
       " nan,\n",
       " nan,\n",
       " nan,\n",
       " nan,\n",
       " 'B30',\n",
       " nan,\n",
       " nan,\n",
       " nan,\n",
       " 'C83',\n",
       " nan,\n",
       " nan,\n",
       " nan,\n",
       " nan,\n",
       " nan,\n",
       " nan,\n",
       " nan,\n",
       " nan,\n",
       " 'F G73',\n",
       " nan,\n",
       " nan,\n",
       " nan,\n",
       " nan,\n",
       " nan,\n",
       " nan,\n",
       " nan,\n",
       " nan,\n",
       " nan,\n",
       " 'E31',\n",
       " nan,\n",
       " nan,\n",
       " nan,\n",
       " 'A5',\n",
       " nan,\n",
       " nan,\n",
       " nan,\n",
       " 'D26',\n",
       " nan,\n",
       " nan,\n",
       " nan,\n",
       " nan,\n",
       " 'C110',\n",
       " nan,\n",
       " nan,\n",
       " nan,\n",
       " nan,\n",
       " nan,\n",
       " nan,\n",
       " nan,\n",
       " 'B58 B60',\n",
       " nan,\n",
       " nan,\n",
       " nan,\n",
       " nan,\n",
       " 'D26',\n",
       " nan,\n",
       " nan,\n",
       " nan,\n",
       " nan,\n",
       " nan,\n",
       " nan,\n",
       " nan,\n",
       " 'C123',\n",
       " nan,\n",
       " 'B86',\n",
       " nan,\n",
       " nan,\n",
       " nan,\n",
       " nan,\n",
       " nan,\n",
       " 'F2',\n",
       " nan,\n",
       " nan,\n",
       " nan,\n",
       " nan,\n",
       " nan,\n",
       " nan,\n",
       " nan,\n",
       " nan,\n",
       " nan,\n",
       " nan,\n",
       " nan,\n",
       " nan,\n",
       " nan,\n",
       " nan,\n",
       " nan,\n",
       " nan,\n",
       " 'B19',\n",
       " nan,\n",
       " nan,\n",
       " 'A7',\n",
       " nan,\n",
       " nan,\n",
       " 'C49',\n",
       " nan,\n",
       " nan,\n",
       " nan,\n",
       " nan,\n",
       " nan,\n",
       " 'A32',\n",
       " nan,\n",
       " nan,\n",
       " nan,\n",
       " nan,\n",
       " nan,\n",
       " nan,\n",
       " nan,\n",
       " nan,\n",
       " nan,\n",
       " nan,\n",
       " 'G6',\n",
       " nan,\n",
       " nan,\n",
       " nan,\n",
       " nan,\n",
       " nan,\n",
       " nan,\n",
       " nan,\n",
       " nan,\n",
       " nan,\n",
       " nan,\n",
       " nan,\n",
       " nan,\n",
       " nan,\n",
       " nan,\n",
       " nan,\n",
       " nan,\n",
       " nan,\n",
       " nan,\n",
       " nan,\n",
       " nan,\n",
       " nan,\n",
       " nan,\n",
       " nan,\n",
       " nan,\n",
       " nan,\n",
       " 'C78',\n",
       " nan,\n",
       " nan,\n",
       " nan,\n",
       " 'G6',\n",
       " 'C87',\n",
       " nan,\n",
       " nan,\n",
       " nan,\n",
       " 'E67',\n",
       " 'B94',\n",
       " nan,\n",
       " nan,\n",
       " nan,\n",
       " nan,\n",
       " 'C118',\n",
       " nan,\n",
       " nan,\n",
       " nan,\n",
       " nan,\n",
       " nan,\n",
       " nan,\n",
       " 'A19',\n",
       " nan,\n",
       " nan,\n",
       " 'D',\n",
       " nan,\n",
       " nan,\n",
       " nan,\n",
       " nan,\n",
       " 'C22 C26',\n",
       " nan,\n",
       " nan,\n",
       " nan,\n",
       " nan,\n",
       " nan,\n",
       " nan,\n",
       " nan,\n",
       " nan,\n",
       " nan,\n",
       " nan,\n",
       " nan,\n",
       " 'C124',\n",
       " 'C91',\n",
       " nan,\n",
       " nan,\n",
       " 'C2',\n",
       " 'T',\n",
       " nan,\n",
       " nan,\n",
       " nan,\n",
       " nan,\n",
       " nan,\n",
       " 'C128',\n",
       " nan,\n",
       " nan,\n",
       " nan,\n",
       " nan,\n",
       " nan,\n",
       " nan,\n",
       " nan,\n",
       " nan,\n",
       " nan,\n",
       " nan,\n",
       " nan,\n",
       " nan,\n",
       " nan,\n",
       " nan,\n",
       " nan,\n",
       " 'C82',\n",
       " nan,\n",
       " nan,\n",
       " nan,\n",
       " nan,\n",
       " nan,\n",
       " nan,\n",
       " nan,\n",
       " nan,\n",
       " nan,\n",
       " nan,\n",
       " nan,\n",
       " nan,\n",
       " nan,\n",
       " nan,\n",
       " nan,\n",
       " nan,\n",
       " nan,\n",
       " nan,\n",
       " nan,\n",
       " nan,\n",
       " nan,\n",
       " nan,\n",
       " nan,\n",
       " nan,\n",
       " nan,\n",
       " nan,\n",
       " nan,\n",
       " nan,\n",
       " nan,\n",
       " nan,\n",
       " nan,\n",
       " nan,\n",
       " nan,\n",
       " nan,\n",
       " 'E44',\n",
       " nan,\n",
       " 'C23 C25 C27',\n",
       " nan,\n",
       " nan,\n",
       " nan,\n",
       " nan,\n",
       " nan,\n",
       " 'C111',\n",
       " nan,\n",
       " 'E38',\n",
       " nan,\n",
       " nan,\n",
       " 'E63',\n",
       " nan,\n",
       " nan,\n",
       " nan,\n",
       " nan,\n",
       " nan,\n",
       " nan,\n",
       " nan,\n",
       " nan,\n",
       " nan,\n",
       " 'A14',\n",
       " nan,\n",
       " nan,\n",
       " nan,\n",
       " nan,\n",
       " nan,\n",
       " nan,\n",
       " nan,\n",
       " 'B37',\n",
       " nan,\n",
       " nan,\n",
       " nan,\n",
       " 'C30',\n",
       " nan,\n",
       " nan,\n",
       " nan,\n",
       " nan,\n",
       " 'C22 C26',\n",
       " nan,\n",
       " nan,\n",
       " nan,\n",
       " nan,\n",
       " nan,\n",
       " 'C65',\n",
       " nan,\n",
       " nan,\n",
       " nan,\n",
       " 'D46',\n",
       " nan,\n",
       " nan,\n",
       " nan,\n",
       " nan,\n",
       " nan,\n",
       " nan,\n",
       " 'C95',\n",
       " nan,\n",
       " nan,\n",
       " nan,\n",
       " nan,\n",
       " nan,\n",
       " 'B38',\n",
       " nan,\n",
       " nan,\n",
       " nan,\n",
       " 'C86',\n",
       " nan,\n",
       " nan,\n",
       " nan,\n",
       " nan,\n",
       " nan,\n",
       " nan,\n",
       " nan,\n",
       " nan,\n",
       " nan,\n",
       " nan,\n",
       " nan,\n",
       " nan,\n",
       " nan,\n",
       " nan,\n",
       " nan,\n",
       " nan,\n",
       " nan,\n",
       " nan,\n",
       " nan,\n",
       " 'A10',\n",
       " nan,\n",
       " nan,\n",
       " nan,\n",
       " nan,\n",
       " nan,\n",
       " nan,\n",
       " nan,\n",
       " nan,\n",
       " nan,\n",
       " nan,\n",
       " nan,\n",
       " nan,\n",
       " nan,\n",
       " nan,\n",
       " nan,\n",
       " nan,\n",
       " nan,\n",
       " nan,\n",
       " nan,\n",
       " nan,\n",
       " nan,\n",
       " nan,\n",
       " nan,\n",
       " nan,\n",
       " nan,\n",
       " nan,\n",
       " 'D50',\n",
       " nan,\n",
       " nan,\n",
       " nan,\n",
       " nan,\n",
       " nan,\n",
       " nan,\n",
       " nan,\n",
       " nan,\n",
       " nan,\n",
       " nan,\n",
       " nan,\n",
       " nan,\n",
       " nan,\n",
       " nan,\n",
       " nan,\n",
       " nan,\n",
       " nan,\n",
       " nan,\n",
       " nan,\n",
       " nan,\n",
       " nan,\n",
       " 'D48',\n",
       " nan,\n",
       " 'E58',\n",
       " nan,\n",
       " nan,\n",
       " nan,\n",
       " nan,\n",
       " nan,\n",
       " 'B71',\n",
       " nan,\n",
       " nan,\n",
       " nan,\n",
       " nan,\n",
       " nan,\n",
       " nan,\n",
       " nan,\n",
       " nan,\n",
       " nan,\n",
       " nan,\n",
       " nan,\n",
       " nan,\n",
       " nan,\n",
       " nan,\n",
       " nan,\n",
       " nan,\n",
       " nan,\n",
       " 'C68',\n",
       " 'F G63',\n",
       " nan,\n",
       " nan,\n",
       " nan,\n",
       " nan,\n",
       " 'C124',\n",
       " nan,\n",
       " nan,\n",
       " 'F G73',\n",
       " nan,\n",
       " nan,\n",
       " nan,\n",
       " nan,\n",
       " nan,\n",
       " nan,\n",
       " nan,\n",
       " nan,\n",
       " nan,\n",
       " nan,\n",
       " nan,\n",
       " nan,\n",
       " nan,\n",
       " nan,\n",
       " nan,\n",
       " nan,\n",
       " 'C46',\n",
       " nan,\n",
       " 'B22',\n",
       " nan,\n",
       " 'D30',\n",
       " nan,\n",
       " nan,\n",
       " nan,\n",
       " nan,\n",
       " nan,\n",
       " nan,\n",
       " nan,\n",
       " nan,\n",
       " nan,\n",
       " nan,\n",
       " nan,\n",
       " nan,\n",
       " nan,\n",
       " nan,\n",
       " nan,\n",
       " 'E77',\n",
       " nan,\n",
       " nan,\n",
       " 'F38',\n",
       " nan,\n",
       " 'D6',\n",
       " nan,\n",
       " nan,\n",
       " nan,\n",
       " nan,\n",
       " 'B82 B84',\n",
       " nan,\n",
       " nan,\n",
       " nan,\n",
       " nan,\n",
       " nan,\n",
       " nan,\n",
       " nan,\n",
       " nan,\n",
       " nan,\n",
       " nan,\n",
       " 'A36',\n",
       " nan,\n",
       " nan,\n",
       " nan,\n",
       " nan,\n",
       " nan,\n",
       " nan,\n",
       " nan,\n",
       " 'B102',\n",
       " nan,\n",
       " nan,\n",
       " nan,\n",
       " nan,\n",
       " nan,\n",
       " nan,\n",
       " nan,\n",
       " nan,\n",
       " nan,\n",
       " nan,\n",
       " nan,\n",
       " nan,\n",
       " nan,\n",
       " nan,\n",
       " nan,\n",
       " nan,\n",
       " nan,\n",
       " nan,\n",
       " nan,\n",
       " nan,\n",
       " nan,\n",
       " nan,\n",
       " nan,\n",
       " nan,\n",
       " nan,\n",
       " nan,\n",
       " nan,\n",
       " nan,\n",
       " nan,\n",
       " nan,\n",
       " 'A24',\n",
       " nan,\n",
       " nan,\n",
       " 'B51 B53 B55',\n",
       " nan,\n",
       " nan,\n",
       " nan,\n",
       " nan,\n",
       " nan,\n",
       " nan,\n",
       " nan,\n",
       " nan,\n",
       " nan,\n",
       " nan,\n",
       " nan,\n",
       " nan]"
      ]
     },
     "execution_count": 156,
     "metadata": {},
     "output_type": "execute_result"
    }
   ],
   "source": [
    "survived_in_cabins =  list ( train_df [ train_df['Survived'] == 1 ] ['Cabin'] )\n",
    "not_survived_in_cabins = list ( train_df [ train_df['Survived'] == 0 ] ['Cabin'] )\n",
    "not_survived_in_cabins"
   ]
  },
  {
   "cell_type": "code",
   "execution_count": 157,
   "metadata": {
    "collapsed": false
   },
   "outputs": [
    {
     "name": "stdout",
     "output_type": "stream",
     "text": [
      "     Survived  Not survived\n",
      "A           7             8\n",
      "B          35            12\n",
      "C          35            24\n",
      "D          25             8\n",
      "E          24             8\n",
      "F           8             5\n",
      "G           2             2\n",
      "T           0             1\n",
      "nan       206           481\n"
     ]
    }
   ],
   "source": [
    "survived_in_cabins_df = pd.DataFrame( 0, index =[ \"A\", \"B\", \"C\", \"D\", \"E\", \"F\", \"G\", \"T\", \"nan\" ], \\\n",
    "                                     columns=[\"Survived\", \"Not survived\"]) \n",
    "for cabin in survived_in_cabins:\n",
    "    cabin = str (cabin)\n",
    "    if not cabin == 'nan':\n",
    "        survived_in_cabins_df.ix[ cabin[0], \"Survived\"] += 1\n",
    "    else:\n",
    "        survived_in_cabins_df.ix[cabin, \"Survived\"] += 1\n",
    "        \n",
    "for cabin in not_survived_in_cabins:\n",
    "    cabin = str (cabin)\n",
    "    if not cabin == 'nan':\n",
    "        survived_in_cabins_df.ix[ cabin[0], \"Not survived\"] += 1\n",
    "    else:\n",
    "        survived_in_cabins_df.ix[cabin, \"Not survived\"] += 1\n",
    "        \n",
    "# print( survived_in_cabins_df[\"Survived\"].values.tolist() )\n",
    "print( survived_in_cabins_df )"
   ]
  },
  {
   "cell_type": "code",
   "execution_count": 158,
   "metadata": {
    "collapsed": false
   },
   "outputs": [
    {
     "data": {
      "image/png": "[encoded data removed]",
      "text/plain": [
       "<matplotlib.figure.Figure at 0xe055358>"
      ]
     },
     "metadata": {},
     "output_type": "display_data"
    }
   ],
   "source": [
    "fig = plt.figure()\n",
    "ax = fig.add_subplot(111)\n",
    "x_axis=[ \"A\", \"B\", \"C\", \"D\", \"E\", \"F\", \"G\", \"T\", 'nan' ]\n",
    "ax.plot( survived_in_cabins_df[\"Survived\"].values.tolist(),'go-', label = 'Survived') \n",
    "ax.plot( survived_in_cabins_df[\"Not survived\"].values.tolist(),'bo-', label = 'Not survived') \n",
    "plt.setp(ax.get_xticklabels(), visible=True)\n",
    "plt.xticks(range(len(x_axis)), x_axis, size='small')\n",
    "plt.ylim( -100, 500)\n",
    "plt.xlabel('First letter of cabin names')\n",
    "plt.ylabel('Number of survived passengers')\n",
    "plt.legend(loc = 'best')\n",
    "plt.show()"
   ]
  },
  {
   "cell_type": "code",
   "execution_count": 159,
   "metadata": {
    "collapsed": false
   },
   "outputs": [
    {
     "data": {
      "image/png": "[encoded data removed]",
      "text/plain": [
       "<matplotlib.figure.Figure at 0x9c01898>"
      ]
     },
     "metadata": {},
     "output_type": "display_data"
    }
   ],
   "source": [
    "fig = plt.figure()\n",
    "ax = fig.add_subplot(111)\n",
    "x_axis=[ \"A\", \"B\", \"C\", \"D\", \"E\", \"F\", \"G\", \"T\", 'nan' ]\n",
    "ax.plot( survived_in_cabins_df[\"Survived\"].values.tolist(),'go-', label = 'Survived') \n",
    "plt.setp(ax.get_xticklabels(), visible=True)\n",
    "plt.xticks(range(len(x_axis)), x_axis, size='small')\n",
    "plt.ylim( -100, 500)\n",
    "plt.xlabel('First letter of cabin names')\n",
    "plt.ylabel('Number of survived passengers')\n",
    "plt.legend(loc = 'best')\n",
    "plt.show()"
   ]
  },
  {
   "cell_type": "markdown",
   "metadata": {
    "collapsed": true
   },
   "source": [
    "-------------------------------------------------------------"
   ]
  },
  {
   "cell_type": "markdown",
   "metadata": {},
   "source": [
    "### Dependencies between age and survival"
   ]
  },
  {
   "cell_type": "markdown",
   "metadata": {},
   "source": [
    "#### the greatest part of survived people are of the age 20-40 (150 people)\n",
    "#### the highest death rate is for the same age interval, and may be eplained by the fact that most of the people on board were aged 20-40\n"
   ]
  },
  {
   "cell_type": "code",
   "execution_count": 160,
   "metadata": {
    "collapsed": false
   },
   "outputs": [
    {
     "data": {
      "image/png": "[encoded data removed]",
      "text/plain": [
       "<matplotlib.figure.Figure at 0xc170320>"
      ]
     },
     "metadata": {},
     "output_type": "display_data"
    }
   ],
   "source": [
    "import seaborn as sns\n",
    "g = sns.FacetGrid(train_df, col='Survived')\n",
    "g.map(plt.hist, 'Age', bins=100 )\n",
    "plt.show()"
   ]
  },
  {
   "cell_type": "code",
   "execution_count": 161,
   "metadata": {
    "collapsed": false
   },
   "outputs": [
    {
     "name": "stdout",
     "output_type": "stream",
     "text": [
      "(80.0, 0.41999999999999998)\n"
     ]
    }
   ],
   "source": [
    "print( max( train_df[\"Age\"] ) , min( train_df[\"Age\"] ) ) "
   ]
  },
  {
   "cell_type": "code",
   "execution_count": 162,
   "metadata": {
    "collapsed": false
   },
   "outputs": [
    {
     "name": "stdout",
     "output_type": "stream",
     "text": [
      "         Survived\n",
      "[0-10)         38\n",
      "[10-20)        41\n",
      "[20-30)        77\n",
      "[30-40)        73\n",
      "[40-50)        34\n",
      "[50-60)        20\n",
      "[60-70)         6\n",
      "[70-80]        53\n",
      "nan            52\n"
     ]
    }
   ],
   "source": [
    "survived_age = list ( train_df [ train_df['Survived'] == 1 ] ['Age'] )\n",
    "survived_age_interv = pd.DataFrame ( 0, index = \\\n",
    "                                    ['[0-10)', '[10-20)', '[20-30)', '[30-40)', '[40-50)',\n",
    "                                    '[50-60)', '[60-70)', '[70-80]', 'nan'], columns = ['Survived'] )\n",
    "for age in survived_age:\n",
    "    if (str(age) == 'nan'):\n",
    "        survived_age_interv.ix['nan','Survived'] +=1 \n",
    "    if age < 10.:\n",
    "        survived_age_interv.ix['[0-10)','Survived'] +=1 \n",
    "    elif age < 20.:\n",
    "        survived_age_interv.ix['[10-20)','Survived'] +=1 \n",
    "    elif age < 30.:\n",
    "        survived_age_interv.ix['[20-30)','Survived'] +=1 \n",
    "    elif age < 40.:\n",
    "        survived_age_interv.ix['[30-40)','Survived'] +=1 \n",
    "    elif age < 50.:\n",
    "         survived_age_interv.ix['[40-50)','Survived'] +=1 \n",
    "    elif age < 60.:\n",
    "         survived_age_interv.ix['[50-60)','Survived'] +=1 \n",
    "    elif age < 70.:\n",
    "         survived_age_interv.ix['[60-70)','Survived'] +=1 \n",
    "    else:\n",
    "         survived_age_interv.ix['[70-80]','Survived'] +=1\n",
    "print ( survived_age_interv)\n"
   ]
  }
 ],
 "metadata": {
  "anaconda-cloud": {},
  "kernelspec": {
   "display_name": "Python [conda root]",
   "language": "python",
   "name": "conda-root-py"
  },
  "language_info": {
   "codemirror_mode": {
    "name": "ipython",
    "version": 2
   },
   "file_extension": ".py",
   "mimetype": "text/x-python",
   "name": "python",
   "nbconvert_exporter": "python",
   "pygments_lexer": "ipython2",
   "version": "2.7.12"
  }
 },
 "nbformat": 4,
 "nbformat_minor": 2
}
