{
 "cells": [
  {
   "cell_type": "markdown",
   "metadata": {},
   "source": [
    "# Lab1 Titanic passangers' data analysis\n",
    "---\n",
    "\n",
    "By doing this lab you should get acquinted with API of basic machine learning python libraries such as:\n",
    "\n",
    "* scikit-learn\n",
    "* numpy\n",
    "* pandas\n",
    "* matplotlib\n",
    "\n",
    "This task will give ?? points\n",
    "\n",
    "## TASK:\n",
    "\n",
    "[Kaggle](https://www.kaggle.com/) is a data analysis competition platform. Even if you don't interested in that kind of competitions (but there is assumption that you should be interested), there are a lot of examples of rather good data analysis, called [kernels](https://www.kaggle.com/kernels) in kaggle terminology, that you can consult during this course.\n",
    "\n",
    "1. You should register on [Kaggle](https://www.kaggle.com/) to be able to download datasets.\n",
    "2. Download dataset `train.csv` from [Titanic: Machine Learning from Disaster](http://www.kaggle.com/c/titanic-gettingStarted/data). You will find dataset description there as well.\n",
    "3. Every research or analysis are meaningless without right questions, hypothesises? To warm up you need to find meaningfull answers for the next questions:\n",
    "    - How many passengers was travelling by first class?\n",
    "    - What is the most popular female name on board?\n",
    "    - How does ticket cost varie?\n",
    "    - What titles (ex.: Mrs., Mr.) you could find in dataset and which class did they travel?\n",
    "    - Are there any dependencies between class and ticket number?\n",
    "    - What part of passengers was able to survive?\n",
    "    - Are there any correlation between the number of brothers/sisters and the number of parents/kids ?\n",
    "   \n",
    "4. Try to find some correlations or dependencies manually and support/prove them with graphs or statistics. Find some exact rules describing some subset of survived class. What can you say about interpretation complexity of there rules? \n",
    "5. Check the following assumptions:\n",
    "    - Females survived more frequently than mens\n",
    "    - Passangers with more expensive tickets survived with higher probability\n",
    "    \n",
    "## Report\n",
    "\n",
    "All reports should be delivered in the format of IPython (Jupyter) Notebooks (`.ipynb` files). \n",
    "\n",
    "\n",
    "\n",
    "## TOOLS AND LINKS\n",
    "\n",
    "  * [Collection of interesting notebooks](https://github.com/ipython/ipython/wiki/A-gallery-of-interesting-IPython-Notebooks)\n",
    "\n",
    "###  Python libraries\n",
    "\n",
    "  * [NumPy](http://www.numpy.org/)\n",
    "    - [graph library Matlab](http://wiki.scipy.org/NumPy_for_Matlab_Users)\n",
    "  * [Pandas](http://pandas.pydata.org/)\n",
    "    - [how to work with datasets using pandas](http://nbviewer.ipython.org/github/agconti/kaggle-titanic/blob/master/Titanic.ipynb)\n",
    "  * [Matplotlib](http://matplotlib.org/index.html)\n",
    "    - [pyplot](http://matplotlib.org/api/pyplot_api.html) — matlab graph utility emulation in python\n",
    "    - [example gallery](http://matplotlib.org/gallery.html)\n",
    "  * [SciPy](http://scipy.org/)\n",
    "\n",
    "\n",
    "\n"
   ]
  },
  {
   "cell_type": "markdown",
   "metadata": {
    "collapsed": true
   },
   "source": []
  },
  {
   "cell_type": "markdown",
   "metadata": {},
   "source": [
    "# Answers by Grishina Anastasiia"
   ]
  },
  {
   "cell_type": "markdown",
   "metadata": {},
   "source": [
    "### How many passengers was travelling by first class?\n",
    "\n",
    "Re: 216"
   ]
  },
  {
   "cell_type": "markdown",
   "metadata": {},
   "source": [
    "# to work with filepathes use os.path.join() because for different OS path divisor might be different"
   ]
  },
  {
   "cell_type": "code",
   "execution_count": 108,
   "metadata": {},
   "outputs": [
    {
     "name": "stdout",
     "output_type": "stream",
     "text": [
      "216\n"
     ]
    }
   ],
   "source": [
    "import pandas as pd\n",
    "import csv\n",
    "import os\n",
    "\n",
    "Working_dir = os.getcwd() \n",
    "train_df = pd.read_csv( os.path.join( Working_dir, \"train.csv\" ) )\n",
    "\n",
    "VIP_passengers = train_df [ train_df[ \"Pclass\" ] == 1 ].count()[ \"PassengerId\" ]\n",
    "print ( VIP_passengers )"
   ]
  },
  {
   "cell_type": "markdown",
   "metadata": {},
   "source": [
    "-----------------------------------------"
   ]
  },
  {
   "cell_type": "markdown",
   "metadata": {},
   "source": [
    "### What is the most popular female name on board?\n",
    "\n",
    "Re: Anna, 15 \n",
    "\n"
   ]
  },
  {
   "cell_type": "markdown",
   "metadata": {},
   "source": [
    "The name is found based on the following:\n",
    "\n",
    "Heikkinen, Miss. Laina -> Laina\n",
    "\n",
    "Futrelle, Mrs. Jacques Heath (Lily May Peel) -> Lily\n",
    "\n",
    "Hewlett, Mrs. (Mary D Kingcome) -> Mary\n",
    "\n",
    "McGowan, Miss. Anna \"Annie\" -> Anna\n",
    "\n",
    "Yrois, Miss. Henriette (\"Mrs Harbeck\") -> Henriette"
   ]
  },
  {
   "cell_type": "markdown",
   "metadata": {},
   "source": [
    "# 2. implement logic as function and use pandas apply instead of   (code)\n",
    "# 3. I think it would be simpler to create Counter collection from array and it will count names"
   ]
  },
  {
   "cell_type": "code",
   "execution_count": 109,
   "metadata": {},
   "outputs": [
    {
     "data": {
      "text/plain": [
       "[('Anna', 15), ('Mary', 14)]"
      ]
     },
     "execution_count": 109,
     "metadata": {},
     "output_type": "execute_result"
    }
   ],
   "source": [
    "# ladies = names of all women\n",
    "ladies = train_df [ train_df[ \"Sex\" ]==\"female\" ][\"Name\"]\n",
    "\n",
    "# list of names\n",
    "l_names = ['']\n",
    "\n",
    "def make_list_of_names ( string ):#, list_of_names\n",
    "    # search for name only after the title\n",
    "    s = string.split(\". \")\n",
    "    s = s[1]\n",
    "    \n",
    "    # if bracket occurs => first after the bracket without quotes\n",
    "    if '(' in s:\n",
    "        if not ('(\"' in s ):\n",
    "            s = s.split( \"(\" )[1]\n",
    "\n",
    "    # delete unwanted character\n",
    "    for c in ')\"':\n",
    "        s = s.replace( c, \"\" )\n",
    "\n",
    "    # extract name\n",
    "    s = s.split(\" \")[0]\n",
    "    return s\n",
    "\n",
    "l_names = train_df[ train_df.Sex == 'female' ].Name.apply ( make_list_of_names )\n",
    "\n",
    "count_names = []\n",
    "# for i in range (0, len(l_names)):\n",
    "#     count_names.append( l_names.count(l_names[i]) )\n",
    "# print ( l_names [ count_names.index ( max( count_names ) ) ] )\n",
    "# print ( max( count_names ) )\n",
    "    \n",
    "import collections\n",
    "count_names = collections.Counter ( l_names )\n",
    "\n",
    "popular_names = count_names.most_common (2)\n",
    "popular_names"
   ]
  },
  {
   "cell_type": "markdown",
   "metadata": {},
   "source": [
    "-----------------------------------------"
   ]
  },
  {
   "cell_type": "markdown",
   "metadata": {},
   "source": [
    "### How does ticket cost varie?\n",
    "\n",
    "Re: in output of the cells, i.e. min = 0; max = 512.329"
   ]
  },
  {
   "cell_type": "markdown",
   "metadata": {},
   "source": [
    "# 4. Very complex \n",
    "I used your variant"
   ]
  },
  {
   "cell_type": "code",
   "execution_count": 110,
   "metadata": {},
   "outputs": [
    {
     "name": "stdout",
     "output_type": "stream",
     "text": [
      "Class 1: Minimal ticket fare is 0.000\n",
      "Class 1: Minimal ticket fare is 512.329\n",
      "Class 1: Minimal non-zero ticket fare is 5.000\n",
      "\n",
      "Class 2: Minimal ticket fare is 0.000\n",
      "Class 2: Minimal ticket fare is 73.500\n",
      "Class 2: Minimal non-zero ticket fare is 10.500\n",
      "\n",
      "Class 3: Minimal ticket fare is 0.000\n",
      "Class 3: Minimal ticket fare is 69.550\n",
      "Class 3: Minimal non-zero ticket fare is 4.013\n",
      "\n"
     ]
    }
   ],
   "source": [
    "fare = 0\n",
    "i = 0\n",
    "num = 0\n",
    "for i in range(1,4):\n",
    "    fare = train_df[ train_df[ \"Pclass\" ] == i  ][ \"Fare\" ].min()\n",
    "    print ( \"Class %i: Minimal ticket fare is %.3f\" %(i, fare) )\n",
    "    \n",
    "    fare = train_df[ train_df[ \"Pclass\" ] == i  ][ \"Fare\" ].max()\n",
    "    print ( \"Class %i: Minimal ticket fare is %.3f\" %(i, fare) )\n",
    "\n",
    "    fare = train_df[(train_df[ \"Pclass\" ] == i) \\\n",
    "                    & (train_df[ \"Fare\" ] > 0 )][ \"Fare\" ].min()\n",
    "        \n",
    "    print ( \"Class %i: Minimal non-zero ticket fare is %.3f\" %(i, fare))\n",
    "    print('')"
   ]
  },
  {
   "cell_type": "markdown",
   "metadata": {},
   "source": [
    "-----------------------------------------"
   ]
  },
  {
   "cell_type": "markdown",
   "metadata": {},
   "source": [
    "### What titles (ex.: Mrs., Mr.) you could find in dataset and which class did they travel?\n",
    "\n",
    "Re: in output of the cells"
   ]
  },
  {
   "cell_type": "markdown",
   "metadata": {},
   "source": [
    "# 5. instead \n",
    "#### train_df[\"Name\"].str.extract(' ([A-Za-z]+)\\.', expand=False)\n",
    "\n",
    "# we can use name.split('.')[0]\n",
    "# and again apply + values_count\n",
    "\n",
    "\n",
    "# 6. looks like you need some groupby (for the code below)"
   ]
  },
  {
   "cell_type": "code",
   "execution_count": 111,
   "metadata": {
    "collapsed": true
   },
   "outputs": [],
   "source": [
    "\n",
    "# if train_df[\"Pclass\"][i] == 1:\n",
    "#         passengers_classes.ix[name,'Class 1'] += 1\n",
    "#     elif train_df[\"Pclass\"][i] == 2:\n",
    "#         passengers_classes.ix[name,'Class 2'] += 1\n",
    "#     else:\n",
    "#         passengers_classes.ix[name,'Class 3'] += 1\n"
   ]
  },
  {
   "cell_type": "markdown",
   "metadata": {},
   "source": [
    "did not get your idea about groupby, applied corrections ( apply, value_counts )"
   ]
  },
  {
   "cell_type": "code",
   "execution_count": 112,
   "metadata": {},
   "outputs": [
    {
     "name": "stdout",
     "output_type": "stream",
     "text": [
      "              Class 1  Class 2  Class 3\n",
      "Mr                107       91      319\n",
      "Mrs                42       41       42\n",
      "Miss               46       34      102\n",
      "Master              3        9       28\n",
      "Don                 1        0        0\n",
      "Rev                 0        6        0\n",
      "Dr                  5        2        0\n",
      "Mme                 1        0        0\n",
      "Ms                  0        1        0\n",
      "Major               2        0        0\n",
      "Lady                1        0        0\n",
      "Sir                 1        0        0\n",
      "Mlle                2        0        0\n",
      "Col                 2        0        0\n",
      "Capt                1        0        0\n",
      "the Countess        1        0        0\n",
      "Jonkheer            1        0        0\n"
     ]
    }
   ],
   "source": [
    "titles = []\n",
    "all_names = train_df [\"Name\"]\n",
    "\n",
    "def find_title ( name ):\n",
    "    name = name.split(\", \")[1]\n",
    "    name = name.split(\". \")[0]\n",
    "    return ( name )\n",
    "titles = train_df.Name.apply ( find_title )\n",
    "\n",
    "# extract unique titles\n",
    "unique_titles = []\n",
    "\n",
    "train_with_titles = train_df.assign( Title = titles)\n",
    "unique_titles = train_with_titles.Title.unique()\n",
    "\n",
    "passengers_classes = pd.DataFrame( 0, index = unique_titles, columns = [\"Class 1\", \"Class 2\", \"Class 3\"])\n",
    "\n",
    "for title in unique_titles:\n",
    "    for i in range ( 1,4 ):\n",
    "        i_str = str(i)\n",
    "        s = pd.value_counts ( train_with_titles.Pclass [ ( train_with_titles.Title == title ) \\\n",
    "                                           & ( train_with_titles.Pclass == i ) ], sort=False )\n",
    "        Class = 'Class ' + i_str\n",
    "\n",
    "        if not s.empty:\n",
    "            passengers_classes.ix[title, Class] = s.ix[i]\n",
    "\n",
    "print ( passengers_classes )"
   ]
  },
  {
   "cell_type": "markdown",
   "metadata": {},
   "source": [
    "-----------------------------------------"
   ]
  },
  {
   "cell_type": "markdown",
   "metadata": {},
   "source": [
    "### Are there any dependencies between class and ticket number?"
   ]
  },
  {
   "cell_type": "markdown",
   "metadata": {},
   "source": [
    "# 7.  use markdown for comments\n",
    "#### code output should be just for reference, concise and clear"
   ]
  },
  {
   "cell_type": "markdown",
   "metadata": {},
   "source": [
    "# 8. It was quiet hard to read answer for question about ticket-class connection\n",
    "Because you have computed the same statistic for different class in different cells,\n",
    "It would be better to aggregate results, it is hard to compare numbers for different classes.\n",
    "Provide results in one table or think how to visualize the numbers."
   ]
  },
  {
   "cell_type": "markdown",
   "metadata": {},
   "source": [
    "#### My answer is in the form of a table now. Please, find it below the calculations"
   ]
  },
  {
   "cell_type": "code",
   "execution_count": 113,
   "metadata": {
    "collapsed": true
   },
   "outputs": [],
   "source": [
    "class_table = pd.DataFrame( 0, index = ['Ticket No starts with No of class, %',\\\n",
    "                                       'Ticket No starts with No of class, drop first characters, %',\\\n",
    "                                       'Specific features'], columns = [\"Class 1\", \"Class 2\", \"Class 3\"])"
   ]
  },
  {
   "cell_type": "markdown",
   "metadata": {},
   "source": [
    "class 1"
   ]
  },
  {
   "cell_type": "code",
   "execution_count": 114,
   "metadata": {},
   "outputs": [],
   "source": [
    "class_1 = train_df[train_df[ \"Pclass\" ] == 1 ][\"Ticket\"] \n",
    "\n",
    "total_num_begin_with_1 = 0\n",
    "s = ''\n",
    "for s in class_1:\n",
    "    if s[0] == \"1\":\n",
    "        total_num_begin_with_1 = total_num_begin_with_1 + 1\n",
    "\n",
    "class_table.ix[0,0] = total_num_begin_with_1/float(len(class_1)) * 100."
   ]
  },
  {
   "cell_type": "code",
   "execution_count": 115,
   "metadata": {},
   "outputs": [],
   "source": [
    "s =''\n",
    "total_num_begin_with_letter_1 = 0\n",
    "for s in class_1:\n",
    "    if s[0] <> \"1\" and \" \" in s:\n",
    "        s = s.split(\" \")[1]\n",
    "        if s[0] == \"1\":\n",
    "            total_num_begin_with_letter_1 += 1\n",
    "            \n",
    "class_table.ix[1,0] = ( total_num_begin_with_1 + total_num_begin_with_letter_1 )/ float(len(class_1) ) * 100. "
   ]
  },
  {
   "cell_type": "code",
   "execution_count": 116,
   "metadata": {},
   "outputs": [],
   "source": [
    "count_class_1_PC = 0\n",
    "for s in class_1:\n",
    "    if s[0:2] == \"PC\":\n",
    "        count_class_1_PC = count_class_1_PC + 1\n",
    "\n",
    "spec_feat_val = count_class_1_PC / float(len(class_1)) * 100.\n",
    "class_table.ix[2,0] = 'Tickets starting with characters \"PC\" compose %2.3f percent of all 1st class tickets'  %( spec_feat_val ) "
   ]
  },
  {
   "cell_type": "markdown",
   "metadata": {},
   "source": [
    "class 2"
   ]
  },
  {
   "cell_type": "code",
   "execution_count": 117,
   "metadata": {},
   "outputs": [],
   "source": [
    "class_2 = train_df[train_df[ \"Pclass\" ] == 2 ][\"Ticket\"] \n",
    "\n",
    "total_num_begin_with_2 = 0\n",
    "for s in class_2:\n",
    "    if s[0] == \"2\":\n",
    "#         print ( s )\n",
    "        total_num_begin_with_2 += 1\n",
    "    \n",
    "class_table.ix[0,1] = total_num_begin_with_2/float(len(class_2)) * 100.\n"
   ]
  },
  {
   "cell_type": "code",
   "execution_count": 118,
   "metadata": {},
   "outputs": [],
   "source": [
    "total_num_begin_with_letter_2 = 0\n",
    "for s in class_2:\n",
    "    if s[0] <> \"2\" and \" \" in s:\n",
    "        s = s.split(\" \")[1]\n",
    "        if s[0] == \"2\":\n",
    "            total_num_begin_with_letter_2 += 1\n",
    "\n",
    "class_table.ix[1,1] = ( total_num_begin_with_2 + total_num_begin_with_letter_2 ) / float(len(class_2) ) * 100.\n"
   ]
  },
  {
   "cell_type": "code",
   "execution_count": 119,
   "metadata": {},
   "outputs": [
    {
     "name": "stdout",
     "output_type": "stream",
     "text": [
      "SC/PARIS 2133\n",
      "SC/PARIS 2131\n",
      "SC/PARIS 2167\n",
      "SC/PARIS 2146\n",
      "SC/PARIS 2149\n",
      "\n",
      "C.A. 24579\n",
      "C.A. 29395\n",
      "C.A. 29178\n",
      "C.A. 29566\n",
      "C.A. 24580\n",
      "\n"
     ]
    }
   ],
   "source": [
    "for s in class_2:\n",
    "    if s[0:8] == \"SC/PARIS\":\n",
    "        print ( s )\n",
    "print ( '' )\n",
    "\n",
    "for s in class_2:\n",
    "    if s[0:4] == \"C.A.\" and s.split(\" \")[1][0] == \"2\":\n",
    "        print ( s )\n",
    "print ( '' )\n",
    "\n",
    "for s in class_2:\n",
    "    if ( s[0:4] == \"SO/C\" or s[0:6] == \"S.O.C.\" ) and s.split(\" \")[1][0] == \"2\":\n",
    "        print ( s )\n",
    "\n",
    "class_table.ix[2,1] = 'Tickets of class 2 starting with characters \"SC/PARIS\" or \"SO/C\" or \"S.O.C.\" begin with 2. ' \\\n",
    "                + 'No ticket of class 2 starting with characters \"C.A\" begins with 2. '"
   ]
  },
  {
   "cell_type": "markdown",
   "metadata": {},
   "source": [
    "class 3"
   ]
  },
  {
   "cell_type": "code",
   "execution_count": 120,
   "metadata": {},
   "outputs": [],
   "source": [
    "class_3 = train_df[train_df[ \"Pclass\" ] == 3 ][\"Ticket\"] \n",
    "\n",
    "total_num_begin_with_3 = 0\n",
    "for s in class_3:\n",
    "    if s[0] == \"3\":\n",
    "        total_num_begin_with_3 = total_num_begin_with_3 + 1\n",
    "\n",
    "class_table.ix[0,2] = total_num_begin_with_3/float(len(class_3)) * 100."
   ]
  },
  {
   "cell_type": "code",
   "execution_count": 121,
   "metadata": {},
   "outputs": [],
   "source": [
    "total_num_begin_with_letter_3 = 0\n",
    "for s in class_3:\n",
    "    if s[0] <> \"3\" and \" \" in s:\n",
    "        s = s.split(\" \")[1]\n",
    "        if s[0] == \"3\":\n",
    "            total_num_begin_with_letter_3 += 1\n",
    "\n",
    "class_table.ix[1,2] = ( total_num_begin_with_3 + total_num_begin_with_letter_3 ) / float(len(class_3) ) * 100.\n"
   ]
  },
  {
   "cell_type": "code",
   "execution_count": 122,
   "metadata": {},
   "outputs": [],
   "source": [
    "count_class_3_STON = 0\n",
    "for s in class_3:\n",
    "    if s[0:3] == \"STO\":\n",
    "#         print ( s )\n",
    "        count_class_3_STON += 1\n",
    "\n",
    "spec_feat_3_val = count_class_3_STON / float(len(class_3)) * 100.\n",
    "class_table.ix[2,2] ='Tickets of class 3 starting with characters \"STON/\" compose %2.3f percent of all 3d class tickets'%( spec_feat_3_val ) "
   ]
  },
  {
   "cell_type": "code",
   "execution_count": 123,
   "metadata": {},
   "outputs": [
    {
     "data": {
      "text/html": [
       "<div>\n",
       "<table border=\"1\" class=\"dataframe\">\n",
       "  <thead>\n",
       "    <tr style=\"text-align: right;\">\n",
       "      <th></th>\n",
       "      <th>Class 1</th>\n",
       "      <th>Class 2</th>\n",
       "      <th>Class 3</th>\n",
       "    </tr>\n",
       "  </thead>\n",
       "  <tbody>\n",
       "    <tr>\n",
       "      <th>Ticket No starts with No of class, %</th>\n",
       "      <td>60.6481</td>\n",
       "      <td>64.6739</td>\n",
       "      <td>57.4338</td>\n",
       "    </tr>\n",
       "    <tr>\n",
       "      <th>Ticket No starts with No of class, drop first characters, %</th>\n",
       "      <td>88.8889</td>\n",
       "      <td>73.913</td>\n",
       "      <td>64.7658</td>\n",
       "    </tr>\n",
       "    <tr>\n",
       "      <th>Specific features</th>\n",
       "      <td>Tickets starting with characters \"PC\" compose 27.778 percent of all 1st class tickets</td>\n",
       "      <td>Tickets of class 2 starting with characters \"SC/PARIS\" or \"SO/C\" or \"S.O.C.\" begin with 2. No ticket of class 2 starting with characters \"C.A\" begins with 2.</td>\n",
       "      <td>Tickets of class 3 starting with characters \"STON/\" compose 3.666 percent of all 3d class tickets</td>\n",
       "    </tr>\n",
       "  </tbody>\n",
       "</table>\n",
       "</div>"
      ],
      "text/plain": [
       "                                                                                                                                           Class 1  \\\n",
       "Ticket No starts with No of class, %                                                                                                       60.6481   \n",
       "Ticket No starts with No of class, drop first characters, %                                                                                88.8889   \n",
       "Specific features                                            Tickets starting with characters \"PC\" compose 27.778 percent of all 1st class tickets   \n",
       "\n",
       "                                                                                                                                                                                                                    Class 2  \\\n",
       "Ticket No starts with No of class, %                                                                                                                                                                                64.6739   \n",
       "Ticket No starts with No of class, drop first characters, %                                                                                                                                                          73.913   \n",
       "Specific features                                            Tickets of class 2 starting with characters \"SC/PARIS\" or \"SO/C\" or \"S.O.C.\" begin with 2. No ticket of class 2 starting with characters \"C.A\" begins with 2.    \n",
       "\n",
       "                                                                                                                                                       Class 3  \n",
       "Ticket No starts with No of class, %                                                                                                                   57.4338  \n",
       "Ticket No starts with No of class, drop first characters, %                                                                                            64.7658  \n",
       "Specific features                                            Tickets of class 3 starting with characters \"STON/\" compose 3.666 percent of all 3d class tickets  "
      ]
     },
     "execution_count": 123,
     "metadata": {},
     "output_type": "execute_result"
    }
   ],
   "source": [
    "pd.set_option('max_colwidth',200)\n",
    "class_table"
   ]
  },
  {
   "cell_type": "markdown",
   "metadata": {},
   "source": [
    "-----------------------------------------"
   ]
  },
  {
   "cell_type": "markdown",
   "metadata": {},
   "source": [
    "### What part of passengers was able to survive?"
   ]
  },
  {
   "cell_type": "markdown",
   "metadata": {},
   "source": [
    "342 people survived\n",
    "\n",
    "This is 38 percent of all passengers"
   ]
  },
  {
   "cell_type": "code",
   "execution_count": 124,
   "metadata": {},
   "outputs": [
    {
     "name": "stdout",
     "output_type": "stream",
     "text": [
      "342\n",
      "38.3838383838\n"
     ]
    }
   ],
   "source": [
    "print ( sum( train_df [ 'Survived' ] ) )\n",
    "print ( sum( train_df [ 'Survived' ] ) /float ( len ( train_df.index) ) *100 ) "
   ]
  },
  {
   "cell_type": "markdown",
   "metadata": {},
   "source": [
    "-----------------------------------------"
   ]
  },
  {
   "cell_type": "markdown",
   "metadata": {},
   "source": [
    "### Are there any correlation between the number of brothers/sisters and the number of parents/kids ?\n",
    "\n",
    "Re:\n",
    "* There are 142 passengers with family members aboard\n",
    "* In percentage they compose ~16% of all passengers\n",
    "* There are members of the family with 8 Siblings/Spouses and 2 Parents/Children on board ( but in the train set there is no person with 9 SibSp and 1 Parch, so the parents  ust be in the train set\n",
    "* There are members of the family with 5 Siblings/Spouses and 2 Parents/Children on board\n",
    "* families with 4 Siblings/Spouses have 1 or 2 Parents/Children members\n",
    "* families with 3 Siblings/Spouses have 0 - 2 Parents/Children members\n"
   ]
  },
  {
   "cell_type": "markdown",
   "metadata": {},
   "source": [
    "# 9. What is a purpose of such cells\n",
    "\n",
    "Sibsp_group_by_par = list ( train_df[['PassengerId','SibSp', 'Parch']].groupby(train_df[\"Parch\"]) )\n",
    "\n",
    "print ( Sibsp_group_by_par )\n",
    "\n",
    "What should I see from that print?"
   ]
  },
  {
   "cell_type": "markdown",
   "metadata": {},
   "source": [
    "## Answer\n",
    "All the conclusions are made above in \"Re:\"\n",
    "\n",
    "Those prints were helpful for me to derive this conclusions\n",
    "\n",
    "In this version I have toggled comments for the prints"
   ]
  },
  {
   "cell_type": "code",
   "execution_count": 125,
   "metadata": {},
   "outputs": [
    {
     "data": {
      "text/html": [
       "<div>\n",
       "<table border=\"1\" class=\"dataframe\">\n",
       "  <thead>\n",
       "    <tr style=\"text-align: right;\">\n",
       "      <th></th>\n",
       "      <th>SibSp</th>\n",
       "      <th>Parch</th>\n",
       "    </tr>\n",
       "  </thead>\n",
       "  <tbody>\n",
       "    <tr>\n",
       "      <th>SibSp</th>\n",
       "      <td>1.000000</td>\n",
       "      <td>0.414838</td>\n",
       "    </tr>\n",
       "    <tr>\n",
       "      <th>Parch</th>\n",
       "      <td>0.414838</td>\n",
       "      <td>1.000000</td>\n",
       "    </tr>\n",
       "  </tbody>\n",
       "</table>\n",
       "</div>"
      ],
      "text/plain": [
       "          SibSp     Parch\n",
       "SibSp  1.000000  0.414838\n",
       "Parch  0.414838  1.000000"
      ]
     },
     "execution_count": 125,
     "metadata": {},
     "output_type": "execute_result"
    }
   ],
   "source": [
    "train_df[ [ 'SibSp', 'Parch' ] ].corr()"
   ]
  },
  {
   "cell_type": "markdown",
   "metadata": {},
   "source": [
    "passengers with family members"
   ]
  },
  {
   "cell_type": "code",
   "execution_count": 126,
   "metadata": {},
   "outputs": [
    {
     "name": "stdout",
     "output_type": "stream",
     "text": [
      "142\n"
     ]
    }
   ],
   "source": [
    "print( len ( train_df[ ( train_df['SibSp'] > 0 ) & ( train_df['Parch'] > 0 ) ] ) )"
   ]
  },
  {
   "cell_type": "markdown",
   "metadata": {},
   "source": [
    "In percentage they compose ~16% of all passengers"
   ]
  },
  {
   "cell_type": "code",
   "execution_count": 127,
   "metadata": {},
   "outputs": [
    {
     "data": {
      "text/plain": [
       "15.937149270482603"
      ]
     },
     "execution_count": 127,
     "metadata": {},
     "output_type": "execute_result"
    }
   ],
   "source": [
    "float ( len ( train_df[ ( train_df['SibSp'] > 0 ) \\\n",
    "                       & ( train_df['Parch'] > 0 ) ].index ) ) / float ( len ( train_df.index) ) * 100"
   ]
  },
  {
   "cell_type": "code",
   "execution_count": 128,
   "metadata": {},
   "outputs": [],
   "source": [
    "Sibsp_group_by_sib = list ( train_df[['PassengerId','SibSp', 'Parch']].groupby(train_df[\"SibSp\"]) )\n",
    "\n",
    "# print ( Sibsp_group_by_sib )"
   ]
  },
  {
   "cell_type": "code",
   "execution_count": 129,
   "metadata": {},
   "outputs": [],
   "source": [
    "Sibsp_group_by_par = list ( train_df[['PassengerId','SibSp', 'Parch']].groupby(train_df[\"Parch\"]) )\n",
    "\n",
    "# print ( Sibsp_group_by_par )"
   ]
  },
  {
   "cell_type": "code",
   "execution_count": 130,
   "metadata": {},
   "outputs": [],
   "source": [
    "Sibsp_group_by_sib_par = list ( train_df[['PassengerId','SibSp', 'Parch']].groupby(['SibSp', 'Parch']) )\n",
    "\n",
    "# print ( Sibsp_group_by_sib_par )"
   ]
  },
  {
   "cell_type": "code",
   "execution_count": 131,
   "metadata": {},
   "outputs": [
    {
     "data": {
      "text/plain": [
       "8"
      ]
     },
     "execution_count": 131,
     "metadata": {},
     "output_type": "execute_result"
    }
   ],
   "source": [
    "max( train_df['SibSp'] )"
   ]
  },
  {
   "cell_type": "code",
   "execution_count": 132,
   "metadata": {},
   "outputs": [
    {
     "data": {
      "text/plain": [
       "6"
      ]
     },
     "execution_count": 132,
     "metadata": {},
     "output_type": "execute_result"
    }
   ],
   "source": [
    "max( train_df['Parch'] )"
   ]
  },
  {
   "cell_type": "markdown",
   "metadata": {},
   "source": [
    "-----------------------------------------"
   ]
  },
  {
   "cell_type": "markdown",
   "metadata": {},
   "source": [
    "### Females survived more frequently than mens"
   ]
  },
  {
   "cell_type": "markdown",
   "metadata": {},
   "source": [
    "Yes\n",
    "\n",
    "Survived women: 233\n",
    "    \n",
    "Survived men: 109"
   ]
  },
  {
   "cell_type": "code",
   "execution_count": 133,
   "metadata": {},
   "outputs": [
    {
     "name": "stdout",
     "output_type": "stream",
     "text": [
      "True\n"
     ]
    }
   ],
   "source": [
    "print ( len ( train_df[ ( train_df['Sex'] == 'female' ) & ( train_df['Survived'] == 1 ) ].index )>\\\n",
    "    len ( train_df[ ( train_df['Sex'] == 'male' ) & ( train_df['Survived'] == 1 ) ].index ) )"
   ]
  },
  {
   "cell_type": "code",
   "execution_count": 134,
   "metadata": {},
   "outputs": [
    {
     "name": "stdout",
     "output_type": "stream",
     "text": [
      "233\n",
      "109\n"
     ]
    }
   ],
   "source": [
    "print( len ( train_df[ ( train_df['Sex'] == 'female' ) \\\n",
    "                      & ( train_df['Survived'] == 1 ) ]['Survived'].index ) )\n",
    "print( len ( train_df[ ( train_df['Sex'] == 'male' ) \\\n",
    "                      & ( train_df['Survived'] == 1 ) ]['Survived'].index ) ) "
   ]
  },
  {
   "cell_type": "markdown",
   "metadata": {},
   "source": [
    "### Dependence of survival on the port of embarkation"
   ]
  },
  {
   "cell_type": "markdown",
   "metadata": {},
   "source": [
    "#### Passengers who embarked in the port S survived more frequently"
   ]
  },
  {
   "cell_type": "code",
   "execution_count": 135,
   "metadata": {},
   "outputs": [
    {
     "data": {
      "image/png": "[encoded data removed]",
      "text/plain": [
       "<matplotlib.figure.Figure at 0x938e160>"
      ]
     },
     "metadata": {},
     "output_type": "display_data"
    }
   ],
   "source": [
    "import collections\n",
    "import numpy as np\n",
    "import matplotlib.pyplot as plt\n",
    "\n",
    "survived_in_embark = list ( train_df [ train_df['Survived'] == 1 ] ['Embarked'] )\n",
    "survived_in_embark_count = collections.Counter ( survived_in_embark )\n",
    "\n",
    "fig = plt.figure()\n",
    "ax = fig.add_subplot(111)\n",
    "\n",
    "frequencies = survived_in_embark_count.values()\n",
    "names = survived_in_embark_count.keys()\n",
    "\n",
    "x_coordinates = np.arange(len(survived_in_embark_count))\n",
    "ax.bar(x_coordinates, frequencies, align='center')\n",
    "ax.xaxis.set_major_locator(plt.FixedLocator(x_coordinates))\n",
    "ax.xaxis.set_major_formatter(plt.FixedFormatter(names))\n",
    "plt.ylabel('Number of survived passengers')\n",
    "plt.xlabel('Port of embarkation')\n",
    "\n",
    "plt.show()"
   ]
  },
  {
   "cell_type": "markdown",
   "metadata": {},
   "source": [
    "-------------------------------------------------------------"
   ]
  },
  {
   "cell_type": "markdown",
   "metadata": {},
   "source": [
    "### Dependence of survival on the 1st letter of cabin name and thus on the place of the passenger on board the ship"
   ]
  },
  {
   "cell_type": "markdown",
   "metadata": {},
   "source": [
    "#### * there is too many 'nan' data in cabin name column\n",
    "#### * passengers from cabins that start with \"B\" and \"C\" survived more frequently than from the cabin with other letters"
   ]
  },
  {
   "cell_type": "code",
   "execution_count": 144,
   "metadata": {},
   "outputs": [],
   "source": [
    "survived_in_cabins =  list ( train_df [ train_df['Survived'] == 1 ] ['Cabin'] )\n",
    "not_survived_in_cabins = list ( train_df [ train_df['Survived'] == 0 ] ['Cabin'] )\n",
    "# not_survived_in_cabins"
   ]
  },
  {
   "cell_type": "code",
   "execution_count": 145,
   "metadata": {},
   "outputs": [
    {
     "name": "stdout",
     "output_type": "stream",
     "text": [
      "     Survived  Not survived\n",
      "A           7             8\n",
      "B          35            12\n",
      "C          35            24\n",
      "D          25             8\n",
      "E          24             8\n",
      "F           8             5\n",
      "G           2             2\n",
      "T           0             1\n",
      "nan       206           481\n"
     ]
    }
   ],
   "source": [
    "survived_in_cabins_df = pd.DataFrame( 0, index =[ \"A\", \"B\", \"C\", \"D\", \"E\", \"F\", \"G\", \"T\", \"nan\" ], \\\n",
    "                                     columns=[\"Survived\", \"Not survived\"]) \n",
    "for cabin in survived_in_cabins:\n",
    "    cabin = str (cabin)\n",
    "    if not cabin == 'nan':\n",
    "        survived_in_cabins_df.ix[ cabin[0], \"Survived\"] += 1\n",
    "    else:\n",
    "        survived_in_cabins_df.ix[cabin, \"Survived\"] += 1\n",
    "        \n",
    "for cabin in not_survived_in_cabins:\n",
    "    cabin = str (cabin)\n",
    "    if not cabin == 'nan':\n",
    "        survived_in_cabins_df.ix[ cabin[0], \"Not survived\"] += 1\n",
    "    else:\n",
    "        survived_in_cabins_df.ix[cabin, \"Not survived\"] += 1\n",
    "        \n",
    "# print( survived_in_cabins_df[\"Survived\"].values.tolist() )\n",
    "print( survived_in_cabins_df )"
   ]
  },
  {
   "cell_type": "code",
   "execution_count": 138,
   "metadata": {},
   "outputs": [
    {
     "data": {
      "image/png": "[encoded data removed]",
      "text/plain": [
       "<matplotlib.figure.Figure at 0x9d362b0>"
      ]
     },
     "metadata": {},
     "output_type": "display_data"
    }
   ],
   "source": [
    "fig = plt.figure()\n",
    "ax = fig.add_subplot(111)\n",
    "x_axis=[ \"A\", \"B\", \"C\", \"D\", \"E\", \"F\", \"G\", \"T\", 'nan' ]\n",
    "ax.plot( survived_in_cabins_df[\"Survived\"].values.tolist(),'go-', label = 'Survived') \n",
    "ax.plot( survived_in_cabins_df[\"Not survived\"].values.tolist(),'bo-', label = 'Not survived') \n",
    "plt.setp(ax.get_xticklabels(), visible=True)\n",
    "plt.xticks(range(len(x_axis)), x_axis, size='small')\n",
    "plt.ylim( -100, 500)\n",
    "plt.xlabel('First letter of cabin names')\n",
    "plt.ylabel('Number of survived passengers')\n",
    "plt.legend(loc = 'best')\n",
    "plt.show()"
   ]
  },
  {
   "cell_type": "code",
   "execution_count": 139,
   "metadata": {},
   "outputs": [
    {
     "data": {
      "image/png": "[encoded data removed]",
      "text/plain": [
       "<matplotlib.figure.Figure at 0x9fc94a8>"
      ]
     },
     "metadata": {},
     "output_type": "display_data"
    }
   ],
   "source": [
    "fig = plt.figure()\n",
    "ax = fig.add_subplot(111)\n",
    "x_axis=[ \"A\", \"B\", \"C\", \"D\", \"E\", \"F\", \"G\", \"T\", 'nan' ]\n",
    "ax.plot( survived_in_cabins_df[\"Survived\"].values.tolist(),'go-', label = 'Survived') \n",
    "plt.setp(ax.get_xticklabels(), visible=True)\n",
    "plt.xticks(range(len(x_axis)), x_axis, size='small')\n",
    "plt.ylim( -100, 500)\n",
    "plt.xlabel('First letter of cabin names')\n",
    "plt.ylabel('Number of survived passengers')\n",
    "plt.legend(loc = 'best')\n",
    "plt.show()"
   ]
  },
  {
   "cell_type": "markdown",
   "metadata": {
    "collapsed": true
   },
   "source": [
    "-------------------------------------------------------------"
   ]
  },
  {
   "cell_type": "markdown",
   "metadata": {},
   "source": [
    "### Dependencies between age and survival"
   ]
  },
  {
   "cell_type": "markdown",
   "metadata": {},
   "source": [
    "#### the greatest part of survived people are of the age 20-40 (150 people)\n",
    "#### the highest death rate is for the same age interval, and may be eplained by the fact that most of the people on board were aged 20-40\n"
   ]
  },
  {
   "cell_type": "code",
   "execution_count": 140,
   "metadata": {},
   "outputs": [
    {
     "data": {
      "image/png": "[encoded data removed]",
      "text/plain": [
       "<matplotlib.figure.Figure at 0xc552c88>"
      ]
     },
     "metadata": {},
     "output_type": "display_data"
    }
   ],
   "source": [
    "import seaborn as sns\n",
    "g = sns.FacetGrid(train_df, col='Survived')\n",
    "g.map(plt.hist, 'Age', bins=100 )\n",
    "plt.show()"
   ]
  },
  {
   "cell_type": "code",
   "execution_count": 141,
   "metadata": {},
   "outputs": [
    {
     "name": "stdout",
     "output_type": "stream",
     "text": [
      "(80.0, 0.41999999999999998)\n"
     ]
    }
   ],
   "source": [
    "print( max( train_df[\"Age\"] ) , min( train_df[\"Age\"] ) ) "
   ]
  },
  {
   "cell_type": "markdown",
   "metadata": {},
   "source": [
    "# 10. what would you do if there had been 100 bins ???\n",
    "\n",
    "# use data binning;"
   ]
  },
  {
   "cell_type": "code",
   "execution_count": 172,
   "metadata": {},
   "outputs": [
    {
     "name": "stdout",
     "output_type": "stream",
     "text": [
      "Age\n",
      "(0, 10]     38\n",
      "(10, 20]    44\n",
      "(20, 30]    84\n",
      "(30, 40]    69\n",
      "(40, 50]    33\n",
      "(50, 60]    17\n",
      "(60, 70]     4\n",
      "(70, 80]     1\n",
      "Name: Survived, dtype: int64\n"
     ]
    }
   ],
   "source": [
    "bins = [0, 10., 20., 30., 40., 50., 60., 70., 80 ]\n",
    "groups = train_df[['Survived','Age']].groupby(pd.cut(train_df.Age, bins))\n",
    "print( groups.Survived.sum() )"
   ]
  }
 ],
 "metadata": {
  "anaconda-cloud": {},
  "kernelspec": {
   "display_name": "Python 2",
   "language": "python",
   "name": "python2"
  },
  "language_info": {
   "codemirror_mode": {
    "name": "ipython",
    "version": 2
   },
   "file_extension": ".py",
   "mimetype": "text/x-python",
   "name": "python",
   "nbconvert_exporter": "python",
   "pygments_lexer": "ipython2",
   "version": "2.7.13"
  }
 },
 "nbformat": 4,
 "nbformat_minor": 2
}
