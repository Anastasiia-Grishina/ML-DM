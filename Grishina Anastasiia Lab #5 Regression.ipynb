{
 "cells": [
  {
   "cell_type": "markdown",
   "metadata": {},
   "source": [
    "# Introduction into regression analysis\n",
    "\n",
    "In pattern recognition problem we have\n",
    "\n",
    "$Y \\in D_Y = \\{w_1, ... , w_k\\}$\n",
    "\n",
    "is a set of unordered values, i.e. $Y$ - a qualitative variable\n",
    "\n",
    "**Regression analysis**: $Y \\in R$ is a real-valued variable.\n",
    "\n",
    "Random samples of objects $ \\{ o^{(1)}, ... , o^{(N)}\\}$\n",
    "\n",
    "Set of variables $X_1, ... , X_n$\n",
    "\n",
    "Data table $ x^{(i)}_j = X_j(o^{(i)}),\\space j = 1, ... , n; y^{(i)}=Y(o^{(i)}) \\space i = 1, ... , N $\n",
    "\n",
    "Purpose of analysis is to predict values of variable $Y$ depending on values $X$ for any new object by minimizing some expected loss $L(y_{pred}, y_{real})$\n",
    "\n",
    "Usually we use OLS (ordinary least squares) loss function : $L(y_{pred}, y_{real}) = (y_{pred} - y_{real})^2$\n",
    "\n",
    "## Approaches for regression:\n",
    "* Parametric models\n",
    "* Non-parametric\n",
    "* SVM\n",
    "* Logical rules (regression trees)\n",
    "* ...\n",
    "\n",
    "\n",
    "Our linear model will look like:\n",
    "$$ Y^{(i)} = \\beta_0 + \\beta_1x^{(i)}_1 + ... + \\beta_nx^{(i)}_n + \\epsilon^{(i)} $$\n",
    "\n",
    "$ \\epsilon $ - is supposed to be $N(0, \\sigma)$, $\\epsilon^{(i)}$ and $\\epsilon^{(i)}$ are supposed to be independent for $i \\neq j $\n",
    "\n",
    "in matrix form:\n",
    "**$$ Y = X\\beta +  \\epsilon $$**"
   ]
  },
  {
   "cell_type": "markdown",
   "metadata": {},
   "source": [
    "# Examples of regression implementations (OLS)\n",
    "\n",
    "* scikit-learn - easier to use\n",
    "* statsmodel - provide stats out of the box (easier to perform statistical tests, and build confidence intervals), but interfaces are a bit harder\n",
    "* tensorflow - we build linear regression with that library just to grasp a concept of computational graphs and SGD optimization\n"
   ]
  },
  {
   "cell_type": "code",
   "execution_count": 2,
   "metadata": {},
   "outputs": [
    {
     "name": "stdout",
     "output_type": "stream",
     "text": [
      "Coefficients: \n",
      " [ 938.23786125] 152.918861826\n",
      "Mean squared error: 2548.07\n",
      "Variance score: 0.47\n"
     ]
    },
    {
     "data": {
      "image/png": "[encoded data removed]",
      "text/plain": [
       "<matplotlib.figure.Figure at 0x23d2f581ba8>"
      ]
     },
     "metadata": {},
     "output_type": "display_data"
    }
   ],
   "source": [
    "import matplotlib.pyplot as plt\n",
    "import numpy as np\n",
    "from sklearn import datasets, linear_model\n",
    "%matplotlib inline\n",
    "\n",
    "# Load the diabetes dataset\n",
    "diabetes = datasets.load_diabetes()\n",
    "\n",
    "# Use only one feature\n",
    "diabetes_X = diabetes.data[:, np.newaxis, 2]\n",
    "\n",
    "# Split the data into training/testing sets\n",
    "diabetes_X_train = diabetes_X[:-20]\n",
    "diabetes_X_test = diabetes_X[-20:]\n",
    "\n",
    "# Split the targets into training/testing sets\n",
    "diabetes_y_train = diabetes.target[:-20]\n",
    "diabetes_y_test = diabetes.target[-20:]\n",
    "\n",
    "# Create linear regression object\n",
    "regr = linear_model.LinearRegression()\n",
    "\n",
    "# Train the model using the training sets\n",
    "regr.fit(diabetes_X_train, diabetes_y_train)\n",
    "\n",
    "# The coefficients\n",
    "print('Coefficients: \\n', regr.coef_, regr.intercept_)\n",
    "# The mean squared error\n",
    "print(\"Mean squared error: %.2f\"\n",
    "      % np.mean((regr.predict(diabetes_X_test) - diabetes_y_test) ** 2))\n",
    "# Explained variance score: 1 is perfect prediction\n",
    "print('Variance score: %.2f' % regr.score(diabetes_X_test, diabetes_y_test))\n",
    "\n",
    "# Plot outputs\n",
    "plt.scatter(diabetes_X_test, diabetes_y_test,  color='black')\n",
    "plt.plot(diabetes_X_test, regr.predict(diabetes_X_test), color='blue',\n",
    "         linewidth=3)\n",
    "\n",
    "plt.xticks(())\n",
    "plt.yticks(())\n",
    "\n",
    "plt.show()"
   ]
  },
  {
   "cell_type": "code",
   "execution_count": 3,
   "metadata": {},
   "outputs": [
    {
     "name": "stdout",
     "output_type": "stream",
     "text": [
      "<class 'numpy.ndarray'>\n",
      "                            OLS Regression Results                            \n",
      "==============================================================================\n",
      "Dep. Variable:                      y   R-squared:                       0.416\n",
      "Model:                            OLS   Adj. R-squared:                  0.353\n",
      "Method:                 Least Squares   F-statistic:                     6.646\n",
      "Date:                Mon, 22 May 2017   Prob (F-statistic):            0.00157\n",
      "Time:                        17:13:14   Log-Likelihood:                -12.978\n",
      "No. Observations:                  32   AIC:                             33.96\n",
      "Df Residuals:                      28   BIC:                             39.82\n",
      "Df Model:                           3                                         \n",
      "Covariance Type:            nonrobust                                         \n",
      "==============================================================================\n",
      "                 coef    std err          t      P>|t|      [0.025      0.975]\n",
      "------------------------------------------------------------------------------\n",
      "x1             0.4639      0.162      2.864      0.008       0.132       0.796\n",
      "x2             0.0105      0.019      0.539      0.594      -0.029       0.050\n",
      "x3             0.3786      0.139      2.720      0.011       0.093       0.664\n",
      "const         -1.4980      0.524     -2.859      0.008      -2.571      -0.425\n",
      "==============================================================================\n",
      "Omnibus:                        0.176   Durbin-Watson:                   2.346\n",
      "Prob(Omnibus):                  0.916   Jarque-Bera (JB):                0.167\n",
      "Skew:                           0.141   Prob(JB):                        0.920\n",
      "Kurtosis:                       2.786   Cond. No.                         176.\n",
      "==============================================================================\n",
      "\n",
      "Warnings:\n",
      "[1] Standard Errors assume that the covariance matrix of the errors is correctly specified.\n",
      "RMSE 0.131764810961\n",
      "(32,)\n"
     ]
    }
   ],
   "source": [
    "import numpy as np\n",
    "import statsmodels.api as sm\n",
    "\n",
    "spector_data = sm.datasets.spector.load()\n",
    "X = sm.add_constant(spector_data.exog, prepend=False)\n",
    "Y = spector_data.endog\n",
    "\n",
    "print(type(X))\n",
    "\n",
    "# Fit and summarize OLS model\n",
    "mod = sm.OLS(exog=X, endog=Y)\n",
    "res = mod.fit()\n",
    "\n",
    "print(res.summary())\n",
    "\n",
    "print('RMSE', np.mean((res.predict(X) - Y)**2))\n",
    "print( res.predict(X).shape )"
   ]
  },
  {
   "cell_type": "markdown",
   "metadata": {},
   "source": [
    "# Tensorflow linear regression \n",
    "You can install it with:\n",
    "```sh\n",
    "pip install tensorflow\n",
    "```\n",
    "Our model will be small, so it should work fine with CPU.\n",
    "\n",
    "Tensorflow tl;dr \n",
    "\n",
    "First you need to create computational graph with those functions\n",
    "\n",
    "[tf.placeholder](https://www.tensorflow.org/api_docs/python/tf/placeholder) - reserve place for input\n",
    "\n",
    "[tf.Variable](https://www.tensorflow.org/api_docs/python/tf/Variable) - parameters that you will optimize\n",
    "\n",
    "tf.add, tf.multiply ... - operations (node of the computational graph) [Read the docs](https://www.tensorflow.org/api_docs/python/tf)\n",
    "\n",
    "Define:\n",
    "1. Cost function - it is also the same computational node (`cost` in example bellow)\n",
    "2. create Optimizer \n",
    "\n",
    "When you have finished to creat your computational graph, you need to create Session -> Initialize variables -> Run optimizer/\n"
   ]
  },
  {
   "cell_type": "code",
   "execution_count": 4,
   "metadata": {},
   "outputs": [
    {
     "name": "stdout",
     "output_type": "stream",
     "text": [
      "Epoch: 0050 cost= 0.081534609 W= 0.212181 b= 1.07061\n",
      "Epoch: 0100 cost= 0.081013352 W= 0.214406 b= 1.0546\n",
      "Epoch: 0150 cost= 0.080552064 W= 0.216499 b= 1.03955\n",
      "Epoch: 0200 cost= 0.080143809 W= 0.218467 b= 1.02539\n",
      "Epoch: 0250 cost= 0.079782464 W= 0.220318 b= 1.01207\n",
      "Epoch: 0300 cost= 0.079462692 W= 0.22206 b= 0.999543\n",
      "Epoch: 0350 cost= 0.079179689 W= 0.223697 b= 0.987762\n",
      "Epoch: 0400 cost= 0.078929186 W= 0.225238 b= 0.976681\n",
      "Epoch: 0450 cost= 0.078707501 W= 0.226686 b= 0.96626\n",
      "Epoch: 0500 cost= 0.078511275 W= 0.228049 b= 0.956458\n",
      "Epoch: 0550 cost= 0.078337602 W= 0.22933 b= 0.947241\n",
      "Epoch: 0600 cost= 0.078183882 W= 0.230535 b= 0.938573\n",
      "Epoch: 0650 cost= 0.078047775 W= 0.231668 b= 0.93042\n",
      "Epoch: 0700 cost= 0.077927299 W= 0.232734 b= 0.922751\n",
      "Epoch: 0750 cost= 0.077820644 W= 0.233737 b= 0.915539\n",
      "Epoch: 0800 cost= 0.077726200 W= 0.23468 b= 0.908755\n",
      "Epoch: 0850 cost= 0.077642597 W= 0.235567 b= 0.902376\n",
      "Epoch: 0900 cost= 0.077568538 W= 0.236401 b= 0.896375\n",
      "Epoch: 0950 cost= 0.077502958 W= 0.237185 b= 0.89073\n",
      "Epoch: 1000 cost= 0.077444866 W= 0.237923 b= 0.885422\n",
      "Optimization Finished!\n",
      "Training cost= 0.0774449 W= 0.237923 b= 0.885422 \n",
      "\n"
     ]
    },
    {
     "data": {
      "image/png": "[encoded data removed]",
      "text/plain": [
       "<matplotlib.figure.Figure at 0x23d302de7b8>"
      ]
     },
     "metadata": {},
     "output_type": "display_data"
    },
    {
     "name": "stdout",
     "output_type": "stream",
     "text": [
      "Testing... (Mean square loss Comparison)\n",
      "Testing cost= 0.0819329\n",
      "Absolute mean square loss difference: 0.00448807\n"
     ]
    },
    {
     "data": {
      "image/png": "[encoded data removed]",
      "text/plain": [
       "<matplotlib.figure.Figure at 0x23d3035d470>"
      ]
     },
     "metadata": {},
     "output_type": "display_data"
    }
   ],
   "source": [
    "from __future__ import print_function\n",
    "\n",
    "import tensorflow as tf\n",
    "import numpy\n",
    "import matplotlib.pyplot as plt\n",
    "rng = numpy.random\n",
    "\n",
    "# Parameters\n",
    "learning_rate = 0.01\n",
    "training_epochs = 1000\n",
    "display_step = 50\n",
    "\n",
    "# Training Data\n",
    "train_X = numpy.asarray([3.3,4.4,5.5,6.71,6.93,4.168,9.779,6.182,7.59,2.167,\n",
    "                         7.042,10.791,5.313,7.997,5.654,9.27,3.1])\n",
    "train_Y = numpy.asarray([1.7,2.76,2.09,3.19,1.694,1.573,3.366,2.596,2.53,1.221,\n",
    "                         2.827,3.465,1.65,2.904,2.42,2.94,1.3])\n",
    "n_samples = train_X.shape[0]\n",
    "\n",
    "# tf Graph Input\n",
    "X = tf.placeholder(\"float\")\n",
    "Y = tf.placeholder(\"float\")\n",
    "\n",
    "# Set model weights\n",
    "W = tf.Variable(rng.randn(), name=\"weight\")\n",
    "b = tf.Variable(rng.randn(), name=\"bias\")\n",
    "\n",
    "# Construct a linear model\n",
    "pred = tf.add(tf.multiply(X, W), b)\n",
    "\n",
    "# Mean squared error\n",
    "cost = tf.reduce_sum(tf.pow(pred-Y, 2))/(2*n_samples)\n",
    "# Gradient descent\n",
    "#  Note, minimize() knows to modify W and b because Variable objects are trainable=True by default\n",
    "optimizer = tf.train.GradientDescentOptimizer(learning_rate).minimize(cost)\n",
    "\n",
    "# Initializing the variables\n",
    "init = tf.global_variables_initializer()\n",
    "\n",
    "# Launch the graph\n",
    "with tf.Session() as sess:\n",
    "    sess.run(init)\n",
    "\n",
    "    # Fit all training data\n",
    "    for epoch in range(training_epochs):\n",
    "        for (x, y) in zip(train_X, train_Y):\n",
    "            sess.run(optimizer, feed_dict={X: x, Y: y})\n",
    "\n",
    "        # Display logs per epoch step\n",
    "        if (epoch+1) % display_step == 0:\n",
    "            c = sess.run(cost, feed_dict={X: train_X, Y:train_Y})\n",
    "            print(\"Epoch:\", '%04d' % (epoch+1), \"cost=\", \"{:.9f}\".format(c), \\\n",
    "                \"W=\", sess.run(W), \"b=\", sess.run(b))\n",
    "\n",
    "    print(\"Optimization Finished!\")\n",
    "    training_cost = sess.run(cost, feed_dict={X: train_X, Y: train_Y})\n",
    "    print(\"Training cost=\", training_cost, \"W=\", sess.run(W), \"b=\", sess.run(b), '\\n')\n",
    "\n",
    "    # Graphic display\n",
    "    plt.plot(train_X, train_Y, 'ro', label='Original data')\n",
    "    plt.plot(train_X, sess.run(W) * train_X + sess.run(b), label='Fitted line')\n",
    "    plt.legend()\n",
    "    plt.show()\n",
    "\n",
    "    # Testing example, as requested (Issue #2)\n",
    "    test_X = numpy.asarray([6.83, 4.668, 8.9, 7.91, 5.7, 8.7, 3.1, 2.1])\n",
    "    test_Y = numpy.asarray([1.84, 2.273, 3.2, 2.831, 2.92, 3.24, 1.35, 1.03])\n",
    "\n",
    "    print(\"Testing... (Mean square loss Comparison)\")\n",
    "    testing_cost = sess.run(\n",
    "        tf.reduce_sum(tf.pow(pred - Y, 2)) / (2 * test_X.shape[0]),\n",
    "        feed_dict={X: test_X, Y: test_Y})  # same function as cost above\n",
    "    print(\"Testing cost=\", testing_cost)\n",
    "    print(\"Absolute mean square loss difference:\", abs(\n",
    "        training_cost - testing_cost))\n",
    "\n",
    "    plt.plot(test_X, test_Y, 'bo', label='Testing data')\n",
    "    plt.plot(train_X, sess.run(W) * train_X + sess.run(b), label='Fitted line')\n",
    "    plt.legend()\n",
    "    plt.show()\n"
   ]
  },
  {
   "cell_type": "code",
   "execution_count": null,
   "metadata": {
    "collapsed": true
   },
   "outputs": [],
   "source": []
  },
  {
   "cell_type": "markdown",
   "metadata": {},
   "source": [
    "# Task:\n",
    "1. download dataset from https://www.kaggle.com/harlfoxem/housesalesprediction, make train, test datasets\n",
    "2. build linear regression  using `sqft_living` or `sqft_lot` of house age features \n",
    "3. build these regression models using different libraries (sklearn, statsmodel, tensorflow)\n",
    "4. compare models using $R^2$, $R^2_{adj}$ and RMSE "
   ]
  },
  {
   "cell_type": "markdown",
   "metadata": {},
   "source": [
    "#### 1. Import data"
   ]
  },
  {
   "cell_type": "markdown",
   "metadata": {},
   "source": [
    "Test size = 40% of all data points. "
   ]
  },
  {
   "cell_type": "code",
   "execution_count": 37,
   "metadata": {},
   "outputs": [],
   "source": [
    "import matplotlib.pyplot as plt\n",
    "import numpy as np\n",
    "from sklearn import datasets, linear_model\n",
    "%matplotlib inline\n",
    "import os\n",
    "import pandas as pd\n",
    "from sklearn.cross_validation import train_test_split\n",
    "from sklearn import linear_model\n",
    "import numpy as np\n",
    "from __future__ import print_function\n",
    "import tensorflow as tf\n",
    "import statsmodels.api as sm\n",
    "import sklearn.preprocessing as prep\n",
    "from sklearn.linear_model import Ridge, Lasso "
   ]
  },
  {
   "cell_type": "code",
   "execution_count": 6,
   "metadata": {},
   "outputs": [],
   "source": [
    "Working_dir = os.getcwd() \n",
    "house_data = pd.read_csv( os.path.join( Working_dir, \"kc_house_data.csv\" ) )"
   ]
  },
  {
   "cell_type": "code",
   "execution_count": 7,
   "metadata": {
    "collapsed": true
   },
   "outputs": [],
   "source": [
    "X_train, X_test, y_train, y_test = train_test_split( house_data.sqft_living, house_data.price,\\\n",
    "                                                     random_state = 100, test_size = 0.4 )"
   ]
  },
  {
   "cell_type": "code",
   "execution_count": 8,
   "metadata": {
    "collapsed": true
   },
   "outputs": [],
   "source": [
    "X_train, X_test, y_train, y_test = np.array(X_train), np.array(X_test), np.array(y_train), np.array(y_test)"
   ]
  },
  {
   "cell_type": "markdown",
   "metadata": {},
   "source": [
    "#### 2-3. Linear regression models"
   ]
  },
  {
   "cell_type": "markdown",
   "metadata": {},
   "source": [
    "- sklearn"
   ]
  },
  {
   "cell_type": "code",
   "execution_count": 9,
   "metadata": {
    "collapsed": true
   },
   "outputs": [],
   "source": [
    "X_train_sk = X_train.reshape( X_train.shape[0], 1 )\n",
    "y_train_sk = y_train.reshape( y_train.shape[0], 1 )\n",
    "X_test_sk  = X_test.reshape( X_test.shape[0], 1 )\n",
    "y_test_sk  = y_test.reshape( y_test.shape[0], 1 )"
   ]
  },
  {
   "cell_type": "code",
   "execution_count": 10,
   "metadata": {},
   "outputs": [],
   "source": [
    "# Create linear regression object\n",
    "regr_sk = linear_model.LinearRegression()\n",
    "\n",
    "# Train the model using the training sets\n",
    "regr_sk.fit( X_train_sk, y_train_sk)\n",
    "\n",
    "# Predict the values using the test set\n",
    "y_pred_sk = regr_sk.predict(X_test_sk)"
   ]
  },
  {
   "cell_type": "markdown",
   "metadata": {},
   "source": [
    "----------"
   ]
  },
  {
   "cell_type": "markdown",
   "metadata": {},
   "source": [
    "- statsmodel"
   ]
  },
  {
   "cell_type": "code",
   "execution_count": 11,
   "metadata": {},
   "outputs": [],
   "source": [
    "# Prepare data\n",
    "X_train_sm = X_train_sk.copy()\n",
    "X_train_sm = sm.add_constant(X_train_sm, prepend=False)\n",
    "y_train_sm = y_train.copy()\n",
    "X_test_sm  = X_test_sk.copy()\n",
    "X_test_sm  = sm.add_constant (X_test_sm, prepend=False)\n",
    "\n",
    "# Fit OLS model\n",
    "mod_sm = sm.OLS(y_train_sm, X_train_sm)\n",
    "res_sm = mod_sm.fit()\n",
    "\n",
    "# Predict using OLS model\n",
    "y_pred_sm = res_sm.predict ( X_test_sm )"
   ]
  },
  {
   "cell_type": "markdown",
   "metadata": {},
   "source": [
    "---------"
   ]
  },
  {
   "cell_type": "markdown",
   "metadata": {},
   "source": [
    "- tensorflow"
   ]
  },
  {
   "cell_type": "code",
   "execution_count": 12,
   "metadata": {},
   "outputs": [
    {
     "name": "stdout",
     "output_type": "stream",
     "text": [
      "Epoch: 0010 cost= 34764742656.000000000 W= 261.932 b= 0.0863313\n",
      "Epoch: 0020 cost= 34756734976.000000000 W= 263.428 b= 0.0801959\n",
      "Epoch: 0030 cost= 34756718592.000000000 W= 263.436 b= 0.0734694\n",
      "Epoch: 0040 cost= 34756718592.000000000 W= 263.436 b= 0.0667402\n",
      "Optimization Finished!\n",
      "Training cost= 3.47567e+10 W= 263.436 b= 0.0667402 \n",
      "\n",
      "Testing... (Mean square loss Comparison)\n",
      "Testing cost= 3.47567e+10\n",
      "Absolute mean square loss difference: 0.0\n"
     ]
    }
   ],
   "source": [
    "rng = np.random\n",
    "\n",
    "# Parameters\n",
    "learning_rate = 1e-7\n",
    "training_epochs = 40\n",
    "display_step = 10\n",
    "\n",
    "# Training Data\n",
    "n_samples = X_train.shape[0]\n",
    "\n",
    "# tf Graph Input\n",
    "X = tf.placeholder(\"float\")\n",
    "Y = tf.placeholder(\"float\")\n",
    "\n",
    "# Set model weights\n",
    "W = tf.Variable(rng.randn(), name=\"weight\")\n",
    "b = tf.Variable(rng.randn(), name=\"bias\")\n",
    "\n",
    "# Construct a linear model\n",
    "pred = tf.add(tf.multiply(X, W), b)\n",
    "\n",
    "# Mean squared error\n",
    "cost = tf.reduce_sum(tf.pow(pred-Y, 2))/(2*n_samples)\n",
    "# Gradient descent\n",
    "#  Note, minimize() knows to modify W and b because Variable objects are trainable=True by default\n",
    "optimizer = tf.train.GradientDescentOptimizer(learning_rate).minimize(cost)\n",
    "\n",
    "# Initializing the variables\n",
    "init = tf.global_variables_initializer()\n",
    "\n",
    "# Launch the graph\n",
    "with tf.Session() as sess:\n",
    "    sess.run(init)\n",
    "\n",
    "    # Fit all training data\n",
    "    for epoch in range(training_epochs):\n",
    "        for (x, y) in zip(X_train, y_train):\n",
    "            sess.run(optimizer, feed_dict={X: x, Y: y})\n",
    "\n",
    "        # Display logs per epoch step\n",
    "        if (epoch+1) % display_step == 0:\n",
    "            c = sess.run(cost, feed_dict={X: X_train, Y:y_train})\n",
    "            print(\"Epoch:\", '%04d' % (epoch+1), \"cost=\", \"{:.9f}\".format(c), \\\n",
    "                \"W=\", sess.run(W), \"b=\", sess.run(b))\n",
    "\n",
    "    print(\"Optimization Finished!\")\n",
    "    training_cost = sess.run(cost, feed_dict={X: X_train, Y: y_train})\n",
    "    print(\"Training cost=\", training_cost, \"W=\", sess.run(W), \"b=\", sess.run(b), '\\n')\n",
    "\n",
    "    print(\"Testing... (Mean square loss Comparison)\")\n",
    "    testing_cost = sess.run(\n",
    "        tf.reduce_sum(tf.pow(pred - Y, 2)) / (2 * X_train.shape[0]),\n",
    "        feed_dict={X: X_train, Y: y_train})  # same function as cost above\n",
    "    print(\"Testing cost=\", testing_cost)\n",
    "    print(\"Absolute mean square loss difference:\", \\\n",
    "          abs(training_cost - testing_cost))\n",
    "    \n",
    "    y_pred_tf = sess.run(W) * X_test + sess.run(b)"
   ]
  },
  {
   "cell_type": "markdown",
   "metadata": {},
   "source": [
    "----\n"
   ]
  },
  {
   "cell_type": "markdown",
   "metadata": {},
   "source": [
    "#### Visually compare the models"
   ]
  },
  {
   "cell_type": "code",
   "execution_count": 13,
   "metadata": {},
   "outputs": [
    {
     "data": {
      "image/png": "[encoded data removed]",
      "text/plain": [
       "<matplotlib.figure.Figure at 0x23d2f7bc630>"
      ]
     },
     "metadata": {},
     "output_type": "display_data"
    }
   ],
   "source": [
    "# Plot outputs\n",
    "plt.scatter(X_test_sk, y_test_sk,  color='blue', label = 'true price')\n",
    "plt.plot(X_test_sk, y_pred_sk, color='green',\n",
    "         linewidth=3, label = 'Sklearn')\n",
    "plt.plot(X_test, y_pred_sm, color='red',\n",
    "         linewidth=3, label = 'Statsmodels')\n",
    "\n",
    "plt.plot(X_test_sk, y_pred_tf, color='purple',\n",
    "         linewidth=3, label = 'Tensorflow')\n",
    "\n",
    "plt.xlabel( 'sqft_living' )\n",
    "plt.ylabel( 'price' )\n",
    "\n",
    "plt.title('Linear regression models')\n",
    "plt.legend(loc='upper left')\n",
    "plt.show()"
   ]
  },
  {
   "cell_type": "markdown",
   "metadata": {},
   "source": [
    "Remark: sklearn and statsmodels (almost) coinside"
   ]
  },
  {
   "cell_type": "markdown",
   "metadata": {},
   "source": [
    "----"
   ]
  },
  {
   "cell_type": "markdown",
   "metadata": {},
   "source": [
    "#### Compare $R^2$, $R^2_{adj}, RSME$"
   ]
  },
  {
   "cell_type": "code",
   "execution_count": 16,
   "metadata": {},
   "outputs": [
    {
     "data": {
      "text/html": [
       "<div>\n",
       "<style>\n",
       "    .dataframe thead tr:only-child th {\n",
       "        text-align: right;\n",
       "    }\n",
       "\n",
       "    .dataframe thead th {\n",
       "        text-align: left;\n",
       "    }\n",
       "\n",
       "    .dataframe tbody tr th {\n",
       "        vertical-align: top;\n",
       "    }\n",
       "</style>\n",
       "<table border=\"1\" class=\"dataframe\">\n",
       "  <thead>\n",
       "    <tr style=\"text-align: right;\">\n",
       "      <th></th>\n",
       "      <th>sklearn</th>\n",
       "      <th>statsmodels</th>\n",
       "      <th>tensorflow</th>\n",
       "    </tr>\n",
       "  </thead>\n",
       "  <tbody>\n",
       "    <tr>\n",
       "      <th>$R^2$</th>\n",
       "      <td>0.496740</td>\n",
       "      <td>0.496890</td>\n",
       "      <td>0.436673</td>\n",
       "    </tr>\n",
       "    <tr>\n",
       "      <th>$R^2_{adj}$</th>\n",
       "      <td>0.496682</td>\n",
       "      <td>0.496832</td>\n",
       "      <td>0.436608</td>\n",
       "    </tr>\n",
       "    <tr>\n",
       "      <th>RMSE</th>\n",
       "      <td>4356.185590</td>\n",
       "      <td>4356.185590</td>\n",
       "      <td>10365.852555</td>\n",
       "    </tr>\n",
       "  </tbody>\n",
       "</table>\n",
       "</div>"
      ],
      "text/plain": [
       "                 sklearn  statsmodels    tensorflow\n",
       "$R^2$           0.496740     0.496890      0.436673\n",
       "$R^2_{adj}$     0.496682     0.496832      0.436608\n",
       "RMSE         4356.185590  4356.185590  10365.852555"
      ]
     },
     "execution_count": 16,
     "metadata": {},
     "output_type": "execute_result"
    }
   ],
   "source": [
    "r_table = pd.DataFrame( 0, index = [r'$R^2$',\\\n",
    "                                    r'$R^2_{adj}$',\\\n",
    "                                    'RMSE'], columns = [\"sklearn\", \"statsmodels\", \"tensorflow\"])\n",
    "def rmse( pred, true):\n",
    "    return ( np.sqrt( np.mean( pred - true)**2) )\n",
    "\n",
    "# sklearn\n",
    "\n",
    "# R\n",
    "r = r_table.iloc[0,0] = regr_sk.score(X_test_sk, y_test_sk)\n",
    "\n",
    "# R_adj\n",
    "expl_var = 1.\n",
    "r_table.iloc[1,0] = r - (1. - r )* expl_var / ( y_test.shape[0] - expl_var - 1. )\n",
    "\n",
    "# RMSE\n",
    "r_table.iloc[2,0] = rmse ( regr_sk.predict(X_test_sk), y_test_sk ) \n",
    "\n",
    "# statsmodels\n",
    "\n",
    "# RMSE\n",
    "r_table.iloc[2,1] = rmse (y_pred_sm, y_test)\n",
    "\n",
    "# R (using test data)\n",
    "mod_sm = sm.OLS(y_test, X_test_sm)\n",
    "res_sm = mod_sm.fit()\n",
    "r_table.iloc[0,1] = res_sm.rsquared\n",
    "\n",
    "# R_adj\n",
    "r_table.iloc[1,1] = res_sm.rsquared_adj\n",
    "\n",
    "# Tensorflow\n",
    "# R\n",
    "SSreg = np.dot( y_pred_tf - np.mean( y_test ),  y_pred_tf - np.mean( y_test ) )\n",
    "SStot = np.dot( y_test - np.mean( y_test ),     y_test - np.mean( y_test ) )\n",
    "r = r_table.iloc[0,2] = SSreg / SStot\n",
    "\n",
    "# R_adj\n",
    "r_table.iloc[1,2] =  r - (1. - r )* expl_var / ( y_test.shape[0] - expl_var - 1. )\n",
    "\n",
    "# RMSE\n",
    "r_table.iloc[2,2] = rmse ( y_pred_tf, y_test )\n",
    "r_table"
   ]
  },
  {
   "cell_type": "markdown",
   "metadata": {},
   "source": [
    "----\n"
   ]
  },
  {
   "cell_type": "markdown",
   "metadata": {},
   "source": [
    "### Resume\n",
    "\n",
    "Results for statsmodels and sklearn are close to each other. $R^2$, $R^2_{adj}$ are about 50% which indicates that models explain approximately 50% of the variability of the test data. RMSE values are also very close. \n",
    "\n",
    "Tensorflow has produced worse results. The number of epochs was chosen such that the cost functional value did not change further. RMSE value is greater than in previous two models and $R^2$, $R^2_{adj}$ are smaller. It may be caused by the slowness of the gradient decent method."
   ]
  },
  {
   "cell_type": "markdown",
   "metadata": {},
   "source": [
    "-----"
   ]
  },
  {
   "cell_type": "markdown",
   "metadata": {},
   "source": [
    "For myself:\n",
    "\n",
    "RSME (root-mean-square error) - square root of the mean of sum of squares of errors in prediction - the less the better\n",
    "\n",
    "r2 ~ 0% indicates that the model explains none of the variability of the response data around its mean.\n",
    "\n",
    "r2 ~ 100% indicates that the model explains all the variability of the response data around its mean.\n",
    " \n",
    "r2 adjusted - The adjusted R-squared increases only if the new term improves the model more than would be expected by chance. It decreases when a predictor improves the model by less than expected by chance. The adjusted R-squared can be negative, but it’s usually not.  It is always lower than the R-squared."
   ]
  },
  {
   "cell_type": "markdown",
   "metadata": {},
   "source": [
    "------\n"
   ]
  },
  {
   "cell_type": "markdown",
   "metadata": {},
   "source": [
    "# Categorical variables\n",
    "\n",
    "Task:\n",
    "1. Answer the questions:\n",
    "    - What is a categorical variables?\n",
    "    - Which features from the house sales dataset are categical?\n",
    "    - How can you make model using these features?"
   ]
  },
  {
   "cell_type": "markdown",
   "metadata": {},
   "source": [
    "### - What is a categorical variables?\n",
    "\n",
    "Categorical variables cannot be ordered or compared with anything else than equality or inequality.\n",
    "\n",
    "E.g.: gender: F/M, colors, names"
   ]
  },
  {
   "cell_type": "markdown",
   "metadata": {},
   "source": [
    "----"
   ]
  },
  {
   "cell_type": "markdown",
   "metadata": {},
   "source": [
    "### - Which features from the house sales dataset are categical?\n",
    "\n",
    "waterfront, view\n",
    "\n",
    "zipcode - if we regard it as to the fact of belonging to a certain district"
   ]
  },
  {
   "cell_type": "markdown",
   "metadata": {},
   "source": [
    "-----"
   ]
  },
  {
   "cell_type": "markdown",
   "metadata": {},
   "source": [
    "### - How can you make model using these features?\n",
    "\n",
    "We can convert them into numerical (ordinal) features.\n",
    "\n",
    "E.g. differnet colors are coded as numbers (red - 1, orange - 2,...) "
   ]
  },
  {
   "cell_type": "markdown",
   "metadata": {},
   "source": [
    "------"
   ]
  },
  {
   "cell_type": "markdown",
   "metadata": {},
   "source": [
    "## Regularization\n",
    "\n",
    "Regularization is a method for \"constraining\" or \"regularizing\" the size of the coefficients, thus \"shrinking\" them towards zero. It tends to reduce variance more than it increases bias, and thus minimizes overfitting.\n",
    "\n",
    "Common regularization techniques for linear models:\n",
    "\n",
    "- **Ridge regression** (also known as \"L2 regularization\"): shrinks coefficients toward zero (but they never reach zero)\n",
    "- **Lasso regularization** (also known as \"L1 regularization\"): shrinks coefficients all the way to zero\n",
    "- **ElasticNet regularization**: balance between Ridge and Lasso\n",
    "\n",
    "Lasso regularization is useful if we believe many features are irrelevant, since a feature with a zero coefficient is essentially removed from the model. Thus, it is a useful technique for feature selection.\n",
    "\n",
    "How does regularization work?\n",
    "\n",
    "- A tuning parameter alpha (or sometimes lambda) imposes a penalty on the size of coefficients.\n",
    "- Instead of minimizing the \"loss function\" (mean squared error), it minimizes the \"loss plus penalty\".\n",
    "- A tiny alpha imposes no penalty on the coefficient size, and is equivalent to a normal linear model.\n",
    "- Increasing the alpha penalizes the coefficients and shrinks them toward zero.\n",
    "\n",
    "\n",
    "![reg_picture](https://qph.ec.quoracdn.net/main-qimg-2a88e2acc009fa4de3edeb51e683ca02)\n",
    "\n",
    "\n",
    "Task:\n",
    "1. Build crosscorrelation table for features\n",
    "2. Fit linear regression model using at least 2 highly correlated features\n",
    "3. Plot values of regrssion coefficients as a function of regularization parameter $\\alpha$ for LASSO and RIDGE models. [example](http://scikit-learn.org/stable/auto_examples/linear_model/plot_ridge_path.html#sphx-glr-auto-examples-linear-model-plot-ridge-path-py)"
   ]
  },
  {
   "cell_type": "markdown",
   "metadata": {},
   "source": [
    "### 1. Build crosscorrelation table for features"
   ]
  },
  {
   "cell_type": "code",
   "execution_count": 29,
   "metadata": {
    "collapsed": true
   },
   "outputs": [],
   "source": [
    "# Correlation matrix\n",
    "cross_cor = house_data.corr()\n",
    "\n",
    "# Delete ones one the diagonal\n",
    "cross_cor_0 = cross_cor.replace(to_replace=1., value=0.)"
   ]
  },
  {
   "cell_type": "markdown",
   "metadata": {},
   "source": [
    "#### Find 2 highly correlated features"
   ]
  },
  {
   "cell_type": "code",
   "execution_count": 30,
   "metadata": {},
   "outputs": [
    {
     "data": {
      "text/plain": [
       "id                       NaN\n",
       "price                    NaN\n",
       "bedrooms                 NaN\n",
       "bathrooms                NaN\n",
       "sqft_living       sqft_above\n",
       "sqft_lot                 NaN\n",
       "floors                   NaN\n",
       "waterfront               NaN\n",
       "view                     NaN\n",
       "condition                NaN\n",
       "grade                    NaN\n",
       "sqft_above       sqft_living\n",
       "sqft_basement            NaN\n",
       "yr_built                 NaN\n",
       "yr_renovated             NaN\n",
       "zipcode                  NaN\n",
       "lat                      NaN\n",
       "long                     NaN\n",
       "sqft_living15            NaN\n",
       "sqft_lot15               NaN\n",
       "dtype: object"
      ]
     },
     "execution_count": 30,
     "metadata": {},
     "output_type": "execute_result"
    }
   ],
   "source": [
    "cross_cor_0[cross_cor_0 == cross_cor_0.as_matrix().max()].idxmax()"
   ]
  },
  {
   "cell_type": "code",
   "execution_count": 31,
   "metadata": {},
   "outputs": [
    {
     "data": {
      "text/plain": [
       "<matplotlib.image.AxesImage at 0x23d3030cc50>"
      ]
     },
     "execution_count": 31,
     "metadata": {},
     "output_type": "execute_result"
    },
    {
     "data": {
      "image/png": "[encoded data removed]",
      "text/plain": [
       "<matplotlib.figure.Figure at 0x23d2f756438>"
      ]
     },
     "metadata": {},
     "output_type": "display_data"
    }
   ],
   "source": [
    "# Just a picture of cross correlation matrix\n",
    "plt.matshow(cross_cor)"
   ]
  },
  {
   "cell_type": "code",
   "execution_count": 35,
   "metadata": {},
   "outputs": [],
   "source": [
    "# Extract data\n",
    "data_rgl = house_data.loc[:, ['sqft_living', 'sqft_above']]"
   ]
  },
  {
   "cell_type": "markdown",
   "metadata": {},
   "source": [
    "### 2. Fit linear regression model using at least 2 highly correlated features\n",
    "### 3. Plot values of regrssion coefficients as a function of regularization parameter $\\alpha$ for LASSO and RIDGE models."
   ]
  },
  {
   "cell_type": "markdown",
   "metadata": {},
   "source": [
    "Ridge model - fit and plot"
   ]
  },
  {
   "cell_type": "code",
   "execution_count": 38,
   "metadata": {
    "scrolled": true
   },
   "outputs": [
    {
     "data": {
      "image/png": "[encoded data removed]",
      "text/plain": [
       "<matplotlib.figure.Figure at 0x23d303430b8>"
      ]
     },
     "metadata": {},
     "output_type": "display_data"
    }
   ],
   "source": [
    "# Center the data\n",
    "X = prep.scale(data_rgl)\n",
    "y = prep.scale(house_data.price)\n",
    "\n",
    "# Denote Ridge model\n",
    "n_alphas = 200\n",
    "alphas = np.logspace(-7, 10, n_alphas)\n",
    "ridge = Ridge(fit_intercept=False)\n",
    "\n",
    "# Compute coeffitients\n",
    "coefs = []\n",
    "for a in alphas:\n",
    "    ridge.set_params(alpha=a)\n",
    "    ridge.fit(X, y)\n",
    "    coefs.append(ridge.coef_)\n",
    "\n",
    "# Plot coefficients\n",
    "ax = plt.gca()\n",
    "\n",
    "ax.plot(alphas, coefs)\n",
    "ax.plot(alphas, np.zeros(alphas.shape[0]), label='zero level')\n",
    "ax.set_xscale('log')\n",
    "plt.xlabel('alpha')\n",
    "plt.ylabel('weights')\n",
    "plt.title('Ridge coefficients as a function of the regularization')\n",
    "plt.axis('tight')\n",
    "plt.legend()\n",
    "plt.show()"
   ]
  },
  {
   "cell_type": "markdown",
   "metadata": {},
   "source": [
    "Lasso model - fit and plot"
   ]
  },
  {
   "cell_type": "code",
   "execution_count": 39,
   "metadata": {},
   "outputs": [
    {
     "data": {
      "image/png": "[encoded data removed]",
      "text/plain": [
       "<matplotlib.figure.Figure at 0x23d31eae908>"
      ]
     },
     "metadata": {},
     "output_type": "display_data"
    }
   ],
   "source": [
    "alphas = np.logspace(-7, 5, n_alphas)\n",
    "\n",
    "lasso = Lasso(fit_intercept=False)\n",
    "\n",
    "# Compute coeffitients\n",
    "coefs = []\n",
    "for a in alphas:\n",
    "    lasso.set_params(alpha=a)\n",
    "    lasso.fit(X, y)\n",
    "    coefs.append(lasso.coef_)\n",
    "    \n",
    "ax = plt.gca()\n",
    "\n",
    "ax.plot(alphas, coefs)\n",
    "ax.plot(alphas, np.zeros(alphas.shape[0]), label='zero level')\n",
    "ax.set_xscale('log')\n",
    "# ax.set_xlim(ax.get_xlim()[::-1])  # reverse axis\n",
    "plt.xlabel('alpha')\n",
    "plt.ylabel('weights')\n",
    "plt.title('Lasso coefficients as a function of the regularization')\n",
    "plt.axis('tight')\n",
    "plt.legend()\n",
    "plt.show()"
   ]
  },
  {
   "cell_type": "markdown",
   "metadata": {},
   "source": [
    "### Resume\n",
    "\n",
    "Ridge coefficients are components of $w$ in the cost function formula:\n",
    "$$ \n",
    "\\|y - Xw\\|^2_2 + \\alpha \\cdot \\|w\\|^2_2$$\n",
    "\n",
    "Lasso coefficients are components of $w$ in the cost function formula:\n",
    "\n",
    "$$ \\frac{1}{2 \\cdot n_{samples}} \\cdot\n",
    "\\|y - Xw\\|^2_2 + \\alpha \\cdot \\|w\\|_1$$\n",
    "\n",
    "\n",
    "In both cases the larger is $\\alpha$ the stronger regularization and the coefficients approach zero, otherwise the solution approaches OLS (when $\\alpha$ is about zero)."
   ]
  },
  {
   "cell_type": "markdown",
   "metadata": {},
   "source": [
    "# Regression trees \n",
    "\n",
    "Task:\n",
    "1. try `sklearn.tree.DecisionTreeRegressor`\n",
    "2. compare models using $R^2$, $R^2_{adj}$ and RMSE \n"
   ]
  },
  {
   "cell_type": "code",
   "execution_count": 40,
   "metadata": {},
   "outputs": [],
   "source": [
    "from sklearn.tree import DecisionTreeRegressor\n",
    "X_train_dt = X_train_sk.copy()\n",
    "X_test_dt = X_test_sk.copy()\n",
    "\n",
    "regressor = DecisionTreeRegressor(random_state=0)\n",
    "regressor.fit( X_train_dt, y_train_sk )\n",
    "y_pred_dt = regressor.predict ( X_test_dt )"
   ]
  },
  {
   "cell_type": "code",
   "execution_count": 41,
   "metadata": {},
   "outputs": [
    {
     "data": {
      "text/html": [
       "<div>\n",
       "<style>\n",
       "    .dataframe thead tr:only-child th {\n",
       "        text-align: right;\n",
       "    }\n",
       "\n",
       "    .dataframe thead th {\n",
       "        text-align: left;\n",
       "    }\n",
       "\n",
       "    .dataframe tbody tr th {\n",
       "        vertical-align: top;\n",
       "    }\n",
       "</style>\n",
       "<table border=\"1\" class=\"dataframe\">\n",
       "  <thead>\n",
       "    <tr style=\"text-align: right;\">\n",
       "      <th></th>\n",
       "      <th>sklearn</th>\n",
       "      <th>statsmodels</th>\n",
       "      <th>tensorflow</th>\n",
       "      <th>decision tree</th>\n",
       "    </tr>\n",
       "  </thead>\n",
       "  <tbody>\n",
       "    <tr>\n",
       "      <th>$R^2$</th>\n",
       "      <td>0.496740</td>\n",
       "      <td>0.496890</td>\n",
       "      <td>0.436673</td>\n",
       "      <td>0.475842</td>\n",
       "    </tr>\n",
       "    <tr>\n",
       "      <th>$R^2_{adj}$</th>\n",
       "      <td>0.496682</td>\n",
       "      <td>0.496832</td>\n",
       "      <td>0.436608</td>\n",
       "      <td>0.475782</td>\n",
       "    </tr>\n",
       "    <tr>\n",
       "      <th>RMSE</th>\n",
       "      <td>4356.185590</td>\n",
       "      <td>4356.185590</td>\n",
       "      <td>10365.852555</td>\n",
       "      <td>6599.321596</td>\n",
       "    </tr>\n",
       "  </tbody>\n",
       "</table>\n",
       "</div>"
      ],
      "text/plain": [
       "                 sklearn  statsmodels    tensorflow  decision tree\n",
       "$R^2$           0.496740     0.496890      0.436673       0.475842\n",
       "$R^2_{adj}$     0.496682     0.496832      0.436608       0.475782\n",
       "RMSE         4356.185590  4356.185590  10365.852555    6599.321596"
      ]
     },
     "execution_count": 41,
     "metadata": {},
     "output_type": "execute_result"
    }
   ],
   "source": [
    "# R\n",
    "r = r_table.loc[:,'decision tree'] = regressor.score( X_test_dt, y_test )\n",
    "\n",
    "#R_adj\n",
    "r_table.iloc[1,3] = r - (1. - r )* expl_var / ( y_test.shape[0] - expl_var - 1. )\n",
    "\n",
    "# RMSE\n",
    "r_table.iloc[2,3] = rmse ( y_pred_dt, y_test )\n",
    "\n",
    "r_table"
   ]
  },
  {
   "cell_type": "markdown",
   "metadata": {},
   "source": [
    "### Resume\n",
    "\n",
    "Decision tree regressor has given better results than tensrflow approach, but worse than sklearn and statsmodels"
   ]
  },
  {
   "cell_type": "markdown",
   "metadata": {},
   "source": [
    "-----\n"
   ]
  },
  {
   "cell_type": "markdown",
   "metadata": {},
   "source": [
    "# XGBoost regressor \n",
    "I have mentioned it here only for you to know about the existence of that model"
   ]
  }
 ],
 "metadata": {
  "anaconda-cloud": {},
  "kernelspec": {
   "display_name": "Python 3",
   "language": "python",
   "name": "python3"
  },
  "language_info": {
   "codemirror_mode": {
    "name": "ipython",
    "version": 3
   },
   "file_extension": ".py",
   "mimetype": "text/x-python",
   "name": "python",
   "nbconvert_exporter": "python",
   "pygments_lexer": "ipython3",
   "version": "3.5.3"
  }
 },
 "nbformat": 4,
 "nbformat_minor": 1
}
